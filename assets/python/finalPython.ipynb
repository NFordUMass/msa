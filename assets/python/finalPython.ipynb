{
  "nbformat": 4,
  "nbformat_minor": 0,
  "metadata": {
    "colab": {
      "provenance": [],
      "toc_visible": true
    },
    "kernelspec": {
      "name": "python3",
      "display_name": "Python 3"
    },
    "language_info": {
      "name": "python"
    }
  },
  "cells": [
    {
      "cell_type": "markdown",
      "source": [
        "# Welcome to the MSA Python Workshop!\n",
        "*Created by Noah Ford, Keshav Rangan, Rikhav Shah* <br> <br>\n",
        "Follow along the slide presentation [here](https://docs.google.com/presentation/d/1XXgfSkwRq66XnAMTpvxen4Twim9cPGW9ULiQjS75e5o/edit#slide=id.g2864534bda8_0_0) to help complete the tasks outlined for you. <br> <br>\n",
        "In short, we will take you from absolute CS to beginner to CS 389: Machine Learning within one hour! (okay maybe not that far)"
      ],
      "metadata": {
        "id": "vJyh9azUlvgk"
      }
    },
    {
      "cell_type": "markdown",
      "source": [
        "## Task 2.1 Getting Set-Up\n",
        "Before you go any further in this notebook, make sure you are own your own copy! <br> <br>\n",
        "Look at Task 2.1.1 for copying instructions.  <br> <br>\n",
        "The great thing about Google Colab is that people can work together, but we don't want that here!\n"
      ],
      "metadata": {
        "id": "1Qd6SF4om2NZ"
      }
    },
    {
      "cell_type": "markdown",
      "source": [
        "## Task 2.2 Understanding CoLab\n",
        "If you a complete beginner to coding, then CoLab is a great place to start! <br> <br>\n",
        "You can mix blocks of code and blocks of text!"
      ],
      "metadata": {
        "id": "7KfU4dO2njIJ"
      }
    },
    {
      "cell_type": "code",
      "source": [
        "\"code!\""
      ],
      "metadata": {
        "colab": {
          "base_uri": "https://localhost:8080/",
          "height": 35
        },
        "id": "S5q8Pz_OnGKz",
        "outputId": "8d301934-0e6d-4db0-8a37-89e4605dc7d8"
      },
      "execution_count": null,
      "outputs": [
        {
          "output_type": "execute_result",
          "data": {
            "text/plain": [
              "'code!'"
            ],
            "application/vnd.google.colaboratory.intrinsic+json": {
              "type": "string"
            }
          },
          "metadata": {},
          "execution_count": 2
        }
      ]
    },
    {
      "cell_type": "markdown",
      "source": [
        "text!"
      ],
      "metadata": {
        "id": "hujM3mjeo9h-"
      }
    },
    {
      "cell_type": "markdown",
      "source": [
        "### Task 2.2.1 Run a code block!"
      ],
      "metadata": {
        "id": "ZCK05zKBpF79"
      }
    },
    {
      "cell_type": "code",
      "source": [
        "\"run me!\""
      ],
      "metadata": {
        "colab": {
          "base_uri": "https://localhost:8080/",
          "height": 35
        },
        "id": "Ty5pSNL0p1sr",
        "outputId": "286b5c4e-655a-451c-a921-dd57ffc1bbc5"
      },
      "execution_count": null,
      "outputs": [
        {
          "output_type": "execute_result",
          "data": {
            "text/plain": [
              "'run me!'"
            ],
            "application/vnd.google.colaboratory.intrinsic+json": {
              "type": "string"
            }
          },
          "metadata": {},
          "execution_count": 3
        }
      ]
    },
    {
      "cell_type": "markdown",
      "source": [
        "You did it!\n",
        "Let's do it again!"
      ],
      "metadata": {
        "id": "S9kQWkLup6wC"
      }
    },
    {
      "cell_type": "code",
      "source": [
        "# I'm a comment, run me!"
      ],
      "metadata": {
        "id": "JbrjEaxZy0hR"
      },
      "execution_count": null,
      "outputs": []
    },
    {
      "cell_type": "markdown",
      "source": [
        "That's right, no output. <br>\n",
        "Comments do not affect code in any way. <br>\n",
        "They are for us, not the computer."
      ],
      "metadata": {
        "id": "PMvI9nwpy8TC"
      }
    },
    {
      "cell_type": "markdown",
      "source": [
        "Ok, one more time!"
      ],
      "metadata": {
        "id": "hJ-8fgT4zKR2"
      }
    },
    {
      "cell_type": "code",
      "source": [
        "# run me!\n",
        "2023 - 1970"
      ],
      "metadata": {
        "colab": {
          "base_uri": "https://localhost:8080/"
        },
        "id": "MsKmLsxezLrU",
        "outputId": "a80051fc-2ad1-4e32-de18-4af3920d6c47"
      },
      "execution_count": null,
      "outputs": [
        {
          "output_type": "execute_result",
          "data": {
            "text/plain": [
              "53"
            ]
          },
          "metadata": {},
          "execution_count": 5
        }
      ]
    },
    {
      "cell_type": "markdown",
      "source": [
        "That's right, we can do math, and many operations here!"
      ],
      "metadata": {
        "id": "2xvEU2F_zSaw"
      }
    },
    {
      "cell_type": "code",
      "source": [
        "4 > 3"
      ],
      "metadata": {
        "colab": {
          "base_uri": "https://localhost:8080/"
        },
        "id": "uwaN8eyvzYr-",
        "outputId": "0cab6d87-877a-4963-f375-5e922649ddb6"
      },
      "execution_count": null,
      "outputs": [
        {
          "output_type": "execute_result",
          "data": {
            "text/plain": [
              "True"
            ]
          },
          "metadata": {},
          "execution_count": 8
        }
      ]
    },
    {
      "cell_type": "code",
      "source": [
        "\"i\" in \"team\""
      ],
      "metadata": {
        "colab": {
          "base_uri": "https://localhost:8080/"
        },
        "id": "PGTxKuxV0K7Z",
        "outputId": "dc082cef-8e63-4bc8-97af-8fa31d8cc6ec"
      },
      "execution_count": null,
      "outputs": [
        {
          "output_type": "execute_result",
          "data": {
            "text/plain": [
              "False"
            ]
          },
          "metadata": {},
          "execution_count": 9
        }
      ]
    },
    {
      "cell_type": "code",
      "source": [
        "\"i\" in \"win\""
      ],
      "metadata": {
        "colab": {
          "base_uri": "https://localhost:8080/"
        },
        "id": "37tRRcLx0OuZ",
        "outputId": "34d72bcb-77e1-4478-acbb-8f1d140bc2f0"
      },
      "execution_count": null,
      "outputs": [
        {
          "output_type": "execute_result",
          "data": {
            "text/plain": [
              "True"
            ]
          },
          "metadata": {},
          "execution_count": 10
        }
      ]
    },
    {
      "cell_type": "markdown",
      "source": [
        "### Task 2.2.1 Variable Assignment"
      ],
      "metadata": {
        "id": "qdgG9uV31h75"
      }
    },
    {
      "cell_type": "markdown",
      "source": [
        "Go to [*statmuse*](https://www.statmuse.com/nfl/ask/most-road-playoff-wins-by-a-quarterback) and fill out the variables below. <br>\n",
        "Put the values you find where the #TODO text is."
      ],
      "metadata": {
        "id": "M7IFkwil1o79"
      }
    },
    {
      "cell_type": "code",
      "source": [
        "tomBradyRoadPlayoffWins = 11\n",
        "markSanchezRoadPlayoffWins = 4\n",
        "brettFarveRoadPlayoffWins = 3\n",
        "markSanchezRoadPlayoffWins > brettFarveRoadPlayoffWins"
      ],
      "metadata": {
        "colab": {
          "base_uri": "https://localhost:8080/"
        },
        "id": "HxbvC31Fzu1H",
        "outputId": "c57d362a-b70b-4156-ce41-9898a01affc1"
      },
      "execution_count": null,
      "outputs": [
        {
          "output_type": "execute_result",
          "data": {
            "text/plain": [
              "True"
            ]
          },
          "metadata": {},
          "execution_count": 16
        }
      ]
    },
    {
      "cell_type": "markdown",
      "source": [
        "We can see this is essentially the same code as above when we wrote: <br>\n",
        "4 > 3"
      ],
      "metadata": {
        "id": "PPV-0Byk3Kgs"
      }
    },
    {
      "cell_type": "markdown",
      "source": [
        "## Task 2.3 Installing Packages\n",
        "Ok, now to the meat of the data scrape! <br>\n",
        "We need some tools to help us."
      ],
      "metadata": {
        "id": "t08jzmIt8mut"
      }
    },
    {
      "cell_type": "code",
      "execution_count": null,
      "metadata": {
        "colab": {
          "base_uri": "https://localhost:8080/"
        },
        "id": "7gyEvzCJHcLX",
        "outputId": "7e3fd8b8-8060-42bd-c015-ee6dc8c5db1e"
      },
      "outputs": [
        {
          "output_type": "stream",
          "name": "stdout",
          "text": [
            "Collecting playwright\n",
            "  Downloading playwright-1.39.0-py3-none-manylinux1_x86_64.whl (35.5 MB)\n",
            "\u001b[2K     \u001b[90m━━━━━━━━━━━━━━━━━━━━━━━━━━━━━━━━━━━━━━━━\u001b[0m \u001b[32m35.5/35.5 MB\u001b[0m \u001b[31m41.6 MB/s\u001b[0m eta \u001b[36m0:00:00\u001b[0m\n",
            "\u001b[?25hRequirement already satisfied: greenlet==3.0.0 in /usr/local/lib/python3.10/dist-packages (from playwright) (3.0.0)\n",
            "Collecting pyee==11.0.1 (from playwright)\n",
            "  Downloading pyee-11.0.1-py3-none-any.whl (15 kB)\n",
            "Requirement already satisfied: typing-extensions in /usr/local/lib/python3.10/dist-packages (from pyee==11.0.1->playwright) (4.5.0)\n",
            "Installing collected packages: pyee, playwright\n",
            "Successfully installed playwright-1.39.0 pyee-11.0.1\n",
            "Downloading Chromium 119.0.6045.9 (playwright build v1084)\u001b[2m from https://playwright.azureedge.net/builds/chromium/1084/chromium-linux.zip\u001b[22m\n",
            "\u001b[1G155.8 Mb [] 0% 0.0s\u001b[0K\u001b[1G155.8 Mb [] 0% 26.7s\u001b[0K\u001b[1G155.8 Mb [] 0% 13.3s\u001b[0K\u001b[1G155.8 Mb [] 0% 8.8s\u001b[0K\u001b[1G155.8 Mb [] 0% 7.0s\u001b[0K\u001b[1G155.8 Mb [] 1% 5.2s\u001b[0K\u001b[1G155.8 Mb [] 2% 4.3s\u001b[0K\u001b[1G155.8 Mb [] 2% 4.1s\u001b[0K\u001b[1G155.8 Mb [] 3% 4.0s\u001b[0K\u001b[1G155.8 Mb [] 3% 3.8s\u001b[0K\u001b[1G155.8 Mb [] 3% 4.1s\u001b[0K\u001b[1G155.8 Mb [] 4% 4.1s\u001b[0K\u001b[1G155.8 Mb [] 4% 4.2s\u001b[0K\u001b[1G155.8 Mb [] 5% 3.9s\u001b[0K\u001b[1G155.8 Mb [] 5% 3.6s\u001b[0K\u001b[1G155.8 Mb [] 6% 3.4s\u001b[0K\u001b[1G155.8 Mb [] 7% 3.3s\u001b[0K\u001b[1G155.8 Mb [] 8% 3.2s\u001b[0K\u001b[1G155.8 Mb [] 9% 3.0s\u001b[0K\u001b[1G155.8 Mb [] 10% 2.9s\u001b[0K\u001b[1G155.8 Mb [] 11% 2.8s\u001b[0K\u001b[1G155.8 Mb [] 12% 2.7s\u001b[0K\u001b[1G155.8 Mb [] 12% 2.8s\u001b[0K\u001b[1G155.8 Mb [] 13% 2.8s\u001b[0K\u001b[1G155.8 Mb [] 14% 2.7s\u001b[0K\u001b[1G155.8 Mb [] 15% 2.6s\u001b[0K\u001b[1G155.8 Mb [] 16% 2.5s\u001b[0K\u001b[1G155.8 Mb [] 16% 2.6s\u001b[0K\u001b[1G155.8 Mb [] 16% 2.5s\u001b[0K\u001b[1G155.8 Mb [] 17% 2.5s\u001b[0K\u001b[1G155.8 Mb [] 19% 2.4s\u001b[0K\u001b[1G155.8 Mb [] 20% 2.4s\u001b[0K\u001b[1G155.8 Mb [] 21% 2.4s\u001b[0K\u001b[1G155.8 Mb [] 22% 2.3s\u001b[0K\u001b[1G155.8 Mb [] 23% 2.3s\u001b[0K\u001b[1G155.8 Mb [] 24% 2.2s\u001b[0K\u001b[1G155.8 Mb [] 25% 2.2s\u001b[0K\u001b[1G155.8 Mb [] 26% 2.1s\u001b[0K\u001b[1G155.8 Mb [] 27% 2.0s\u001b[0K\u001b[1G155.8 Mb [] 28% 2.0s\u001b[0K\u001b[1G155.8 Mb [] 29% 1.9s\u001b[0K\u001b[1G155.8 Mb [] 29% 2.0s\u001b[0K\u001b[1G155.8 Mb [] 30% 2.0s\u001b[0K\u001b[1G155.8 Mb [] 30% 2.1s\u001b[0K\u001b[1G155.8 Mb [] 30% 2.2s\u001b[0K\u001b[1G155.8 Mb [] 30% 2.3s\u001b[0K\u001b[1G155.8 Mb [] 30% 2.4s\u001b[0K\u001b[1G155.8 Mb [] 30% 2.5s\u001b[0K\u001b[1G155.8 Mb [] 30% 2.6s\u001b[0K\u001b[1G155.8 Mb [] 30% 2.7s\u001b[0K\u001b[1G155.8 Mb [] 31% 2.7s\u001b[0K\u001b[1G155.8 Mb [] 31% 2.8s\u001b[0K\u001b[1G155.8 Mb [] 31% 2.9s\u001b[0K\u001b[1G155.8 Mb [] 32% 2.9s\u001b[0K\u001b[1G155.8 Mb [] 33% 2.8s\u001b[0K\u001b[1G155.8 Mb [] 34% 2.7s\u001b[0K\u001b[1G155.8 Mb [] 35% 2.7s\u001b[0K\u001b[1G155.8 Mb [] 36% 2.6s\u001b[0K\u001b[1G155.8 Mb [] 37% 2.6s\u001b[0K\u001b[1G155.8 Mb [] 37% 2.5s\u001b[0K\u001b[1G155.8 Mb [] 38% 2.5s\u001b[0K\u001b[1G155.8 Mb [] 39% 2.5s\u001b[0K\u001b[1G155.8 Mb [] 40% 2.5s\u001b[0K\u001b[1G155.8 Mb [] 40% 2.4s\u001b[0K\u001b[1G155.8 Mb [] 41% 2.4s\u001b[0K\u001b[1G155.8 Mb [] 42% 2.3s\u001b[0K\u001b[1G155.8 Mb [] 43% 2.3s\u001b[0K\u001b[1G155.8 Mb [] 44% 2.2s\u001b[0K\u001b[1G155.8 Mb [] 45% 2.2s\u001b[0K\u001b[1G155.8 Mb [] 46% 2.1s\u001b[0K\u001b[1G155.8 Mb [] 47% 2.1s\u001b[0K\u001b[1G155.8 Mb [] 48% 2.1s\u001b[0K\u001b[1G155.8 Mb [] 48% 2.2s\u001b[0K\u001b[1G155.8 Mb [] 49% 2.2s\u001b[0K\u001b[1G155.8 Mb [] 50% 2.2s\u001b[0K\u001b[1G155.8 Mb [] 51% 2.2s\u001b[0K\u001b[1G155.8 Mb [] 52% 2.2s\u001b[0K\u001b[1G155.8 Mb [] 52% 2.1s\u001b[0K\u001b[1G155.8 Mb [] 53% 2.1s\u001b[0K\u001b[1G155.8 Mb [] 54% 2.0s\u001b[0K\u001b[1G155.8 Mb [] 55% 2.0s\u001b[0K\u001b[1G155.8 Mb [] 56% 1.9s\u001b[0K\u001b[1G155.8 Mb [] 57% 1.9s\u001b[0K\u001b[1G155.8 Mb [] 58% 1.8s\u001b[0K\u001b[1G155.8 Mb [] 59% 1.8s\u001b[0K\u001b[1G155.8 Mb [] 60% 1.7s\u001b[0K\u001b[1G155.8 Mb [] 61% 1.7s\u001b[0K\u001b[1G155.8 Mb [] 62% 1.6s\u001b[0K\u001b[1G155.8 Mb [] 63% 1.6s\u001b[0K\u001b[1G155.8 Mb [] 64% 1.5s\u001b[0K\u001b[1G155.8 Mb [] 65% 1.5s\u001b[0K\u001b[1G155.8 Mb [] 66% 1.5s\u001b[0K\u001b[1G155.8 Mb [] 66% 1.4s\u001b[0K\u001b[1G155.8 Mb [] 67% 1.4s\u001b[0K\u001b[1G155.8 Mb [] 68% 1.3s\u001b[0K\u001b[1G155.8 Mb [] 69% 1.3s\u001b[0K\u001b[1G155.8 Mb [] 70% 1.3s\u001b[0K\u001b[1G155.8 Mb [] 70% 1.2s\u001b[0K\u001b[1G155.8 Mb [] 71% 1.2s\u001b[0K\u001b[1G155.8 Mb [] 72% 1.1s\u001b[0K\u001b[1G155.8 Mb [] 73% 1.1s\u001b[0K\u001b[1G155.8 Mb [] 74% 1.0s\u001b[0K\u001b[1G155.8 Mb [] 75% 1.0s\u001b[0K\u001b[1G155.8 Mb [] 76% 0.9s\u001b[0K\u001b[1G155.8 Mb [] 78% 0.9s\u001b[0K\u001b[1G155.8 Mb [] 79% 0.8s\u001b[0K\u001b[1G155.8 Mb [] 80% 0.8s\u001b[0K\u001b[1G155.8 Mb [] 81% 0.8s\u001b[0K\u001b[1G155.8 Mb [] 81% 0.7s\u001b[0K\u001b[1G155.8 Mb [] 82% 0.7s\u001b[0K\u001b[1G155.8 Mb [] 83% 0.7s\u001b[0K\u001b[1G155.8 Mb [] 83% 0.6s\u001b[0K\u001b[1G155.8 Mb [] 84% 0.6s\u001b[0K\u001b[1G155.8 Mb [] 85% 0.6s\u001b[0K\u001b[1G155.8 Mb [] 86% 0.5s\u001b[0K\u001b[1G155.8 Mb [] 87% 0.5s\u001b[0K\u001b[1G155.8 Mb [] 88% 0.4s\u001b[0K\u001b[1G155.8 Mb [] 89% 0.4s\u001b[0K\u001b[1G155.8 Mb [] 90% 0.4s\u001b[0K\u001b[1G155.8 Mb [] 91% 0.3s\u001b[0K\u001b[1G155.8 Mb [] 92% 0.3s\u001b[0K\u001b[1G155.8 Mb [] 93% 0.2s\u001b[0K\u001b[1G155.8 Mb [] 94% 0.2s\u001b[0K\u001b[1G155.8 Mb [] 95% 0.2s\u001b[0K\u001b[1G155.8 Mb [] 96% 0.1s\u001b[0K\u001b[1G155.8 Mb [] 97% 0.1s\u001b[0K\u001b[1G155.8 Mb [] 98% 0.1s\u001b[0K\u001b[1G155.8 Mb [] 98% 0.0s\u001b[0K\u001b[1G155.8 Mb [] 99% 0.0s\u001b[0K\u001b[1G155.8 Mb [] 100% 0.0s\u001b[0K\n",
            "Chromium 119.0.6045.9 (playwright build v1084) downloaded to /root/.cache/ms-playwright/chromium-1084\n",
            "Downloading FFMPEG playwright build v1009\u001b[2m from https://playwright.azureedge.net/builds/ffmpeg/1009/ffmpeg-linux.zip\u001b[22m\n",
            "\u001b[1G2.6 Mb [] 0% 0.0s\u001b[0K\u001b[1G2.6 Mb [] 3% 0.4s\u001b[0K\u001b[1G2.6 Mb [] 16% 0.2s\u001b[0K\u001b[1G2.6 Mb [] 41% 0.1s\u001b[0K\u001b[1G2.6 Mb [] 83% 0.0s\u001b[0K\u001b[1G2.6 Mb [] 100% 0.0s\u001b[0K\n",
            "FFMPEG playwright build v1009 downloaded to /root/.cache/ms-playwright/ffmpeg-1009\n",
            "Downloading Firefox 118.0.1 (playwright build v1425)\u001b[2m from https://playwright.azureedge.net/builds/firefox/1425/firefox-ubuntu-22.04.zip\u001b[22m\n",
            "\u001b[1G80.8 Mb [] 0% 0.0s\u001b[0K\u001b[1G80.8 Mb [] 0% 22.9s\u001b[0K\u001b[1G80.8 Mb [] 0% 18.5s\u001b[0K\u001b[1G80.8 Mb [] 0% 11.7s\u001b[0K\u001b[1G80.8 Mb [] 1% 7.1s\u001b[0K\u001b[1G80.8 Mb [] 1% 6.1s\u001b[0K\u001b[1G80.8 Mb [] 2% 5.2s\u001b[0K\u001b[1G80.8 Mb [] 2% 4.8s\u001b[0K\u001b[1G80.8 Mb [] 3% 4.5s\u001b[0K\u001b[1G80.8 Mb [] 3% 4.2s\u001b[0K\u001b[1G80.8 Mb [] 4% 3.9s\u001b[0K\u001b[1G80.8 Mb [] 4% 3.7s\u001b[0K\u001b[1G80.8 Mb [] 5% 3.7s\u001b[0K\u001b[1G80.8 Mb [] 6% 3.5s\u001b[0K\u001b[1G80.8 Mb [] 7% 3.4s\u001b[0K\u001b[1G80.8 Mb [] 7% 3.2s\u001b[0K\u001b[1G80.8 Mb [] 8% 3.1s\u001b[0K\u001b[1G80.8 Mb [] 10% 2.9s\u001b[0K\u001b[1G80.8 Mb [] 10% 2.8s\u001b[0K\u001b[1G80.8 Mb [] 11% 2.7s\u001b[0K\u001b[1G80.8 Mb [] 12% 2.8s\u001b[0K\u001b[1G80.8 Mb [] 12% 2.7s\u001b[0K\u001b[1G80.8 Mb [] 13% 2.7s\u001b[0K\u001b[1G80.8 Mb [] 13% 2.8s\u001b[0K\u001b[1G80.8 Mb [] 14% 2.7s\u001b[0K\u001b[1G80.8 Mb [] 15% 2.5s\u001b[0K\u001b[1G80.8 Mb [] 17% 2.4s\u001b[0K\u001b[1G80.8 Mb [] 18% 2.4s\u001b[0K\u001b[1G80.8 Mb [] 19% 2.3s\u001b[0K\u001b[1G80.8 Mb [] 20% 2.3s\u001b[0K\u001b[1G80.8 Mb [] 21% 2.2s\u001b[0K\u001b[1G80.8 Mb [] 22% 2.2s\u001b[0K\u001b[1G80.8 Mb [] 23% 2.1s\u001b[0K\u001b[1G80.8 Mb [] 24% 2.1s\u001b[0K\u001b[1G80.8 Mb [] 24% 2.2s\u001b[0K\u001b[1G80.8 Mb [] 26% 2.1s\u001b[0K\u001b[1G80.8 Mb [] 28% 2.0s\u001b[0K\u001b[1G80.8 Mb [] 29% 1.9s\u001b[0K\u001b[1G80.8 Mb [] 30% 1.9s\u001b[0K\u001b[1G80.8 Mb [] 31% 1.9s\u001b[0K\u001b[1G80.8 Mb [] 31% 1.8s\u001b[0K\u001b[1G80.8 Mb [] 32% 1.8s\u001b[0K\u001b[1G80.8 Mb [] 34% 1.7s\u001b[0K\u001b[1G80.8 Mb [] 35% 1.7s\u001b[0K\u001b[1G80.8 Mb [] 36% 1.6s\u001b[0K\u001b[1G80.8 Mb [] 38% 1.5s\u001b[0K\u001b[1G80.8 Mb [] 39% 1.5s\u001b[0K\u001b[1G80.8 Mb [] 40% 1.5s\u001b[0K\u001b[1G80.8 Mb [] 41% 1.5s\u001b[0K\u001b[1G80.8 Mb [] 42% 1.4s\u001b[0K\u001b[1G80.8 Mb [] 43% 1.4s\u001b[0K\u001b[1G80.8 Mb [] 43% 1.5s\u001b[0K\u001b[1G80.8 Mb [] 44% 1.4s\u001b[0K\u001b[1G80.8 Mb [] 44% 1.5s\u001b[0K\u001b[1G80.8 Mb [] 45% 1.5s\u001b[0K\u001b[1G80.8 Mb [] 45% 1.4s\u001b[0K\u001b[1G80.8 Mb [] 46% 1.5s\u001b[0K\u001b[1G80.8 Mb [] 47% 1.5s\u001b[0K\u001b[1G80.8 Mb [] 48% 1.4s\u001b[0K\u001b[1G80.8 Mb [] 49% 1.4s\u001b[0K\u001b[1G80.8 Mb [] 50% 1.4s\u001b[0K\u001b[1G80.8 Mb [] 51% 1.3s\u001b[0K\u001b[1G80.8 Mb [] 52% 1.3s\u001b[0K\u001b[1G80.8 Mb [] 53% 1.3s\u001b[0K\u001b[1G80.8 Mb [] 54% 1.2s\u001b[0K\u001b[1G80.8 Mb [] 56% 1.1s\u001b[0K\u001b[1G80.8 Mb [] 57% 1.1s\u001b[0K\u001b[1G80.8 Mb [] 59% 1.0s\u001b[0K\u001b[1G80.8 Mb [] 61% 1.0s\u001b[0K\u001b[1G80.8 Mb [] 62% 1.0s\u001b[0K\u001b[1G80.8 Mb [] 63% 0.9s\u001b[0K\u001b[1G80.8 Mb [] 65% 0.8s\u001b[0K\u001b[1G80.8 Mb [] 67% 0.8s\u001b[0K\u001b[1G80.8 Mb [] 69% 0.7s\u001b[0K\u001b[1G80.8 Mb [] 71% 0.7s\u001b[0K\u001b[1G80.8 Mb [] 73% 0.6s\u001b[0K\u001b[1G80.8 Mb [] 75% 0.6s\u001b[0K\u001b[1G80.8 Mb [] 77% 0.5s\u001b[0K\u001b[1G80.8 Mb [] 78% 0.5s\u001b[0K\u001b[1G80.8 Mb [] 79% 0.4s\u001b[0K\u001b[1G80.8 Mb [] 80% 0.4s\u001b[0K\u001b[1G80.8 Mb [] 82% 0.4s\u001b[0K\u001b[1G80.8 Mb [] 84% 0.3s\u001b[0K\u001b[1G80.8 Mb [] 85% 0.3s\u001b[0K\u001b[1G80.8 Mb [] 88% 0.3s\u001b[0K\u001b[1G80.8 Mb [] 90% 0.2s\u001b[0K\u001b[1G80.8 Mb [] 93% 0.1s\u001b[0K\u001b[1G80.8 Mb [] 94% 0.1s\u001b[0K\u001b[1G80.8 Mb [] 96% 0.1s\u001b[0K\u001b[1G80.8 Mb [] 98% 0.0s\u001b[0K\u001b[1G80.8 Mb [] 100% 0.0s\u001b[0K\n",
            "Firefox 118.0.1 (playwright build v1425) downloaded to /root/.cache/ms-playwright/firefox-1425\n",
            "Downloading Webkit 17.4 (playwright build v1921)\u001b[2m from https://playwright.azureedge.net/builds/webkit/1921/webkit-ubuntu-22.04.zip\u001b[22m\n",
            "\u001b[1G82.9 Mb [] 0% 0.0s\u001b[0K\u001b[1G82.9 Mb [] 0% 26.7s\u001b[0K\u001b[1G82.9 Mb [] 0% 9.5s\u001b[0K\u001b[1G82.9 Mb [] 0% 7.4s\u001b[0K\u001b[1G82.9 Mb [] 1% 5.4s\u001b[0K\u001b[1G82.9 Mb [] 1% 4.4s\u001b[0K\u001b[1G82.9 Mb [] 2% 4.1s\u001b[0K\u001b[1G82.9 Mb [] 3% 3.4s\u001b[0K\u001b[1G82.9 Mb [] 4% 3.1s\u001b[0K\u001b[1G82.9 Mb [] 5% 2.9s\u001b[0K\u001b[1G82.9 Mb [] 6% 2.9s\u001b[0K\u001b[1G82.9 Mb [] 6% 3.0s\u001b[0K\u001b[1G82.9 Mb [] 7% 3.0s\u001b[0K\u001b[1G82.9 Mb [] 7% 3.1s\u001b[0K\u001b[1G82.9 Mb [] 7% 3.2s\u001b[0K\u001b[1G82.9 Mb [] 8% 3.1s\u001b[0K\u001b[1G82.9 Mb [] 9% 3.1s\u001b[0K\u001b[1G82.9 Mb [] 9% 3.0s\u001b[0K\u001b[1G82.9 Mb [] 10% 3.0s\u001b[0K\u001b[1G82.9 Mb [] 10% 2.9s\u001b[0K\u001b[1G82.9 Mb [] 11% 2.9s\u001b[0K\u001b[1G82.9 Mb [] 12% 2.8s\u001b[0K\u001b[1G82.9 Mb [] 13% 2.7s\u001b[0K\u001b[1G82.9 Mb [] 14% 2.7s\u001b[0K\u001b[1G82.9 Mb [] 15% 2.6s\u001b[0K\u001b[1G82.9 Mb [] 16% 2.5s\u001b[0K\u001b[1G82.9 Mb [] 17% 2.4s\u001b[0K\u001b[1G82.9 Mb [] 18% 2.3s\u001b[0K\u001b[1G82.9 Mb [] 19% 2.3s\u001b[0K\u001b[1G82.9 Mb [] 20% 2.2s\u001b[0K\u001b[1G82.9 Mb [] 21% 2.2s\u001b[0K\u001b[1G82.9 Mb [] 22% 2.2s\u001b[0K\u001b[1G82.9 Mb [] 23% 2.1s\u001b[0K\u001b[1G82.9 Mb [] 23% 2.2s\u001b[0K\u001b[1G82.9 Mb [] 24% 2.2s\u001b[0K\u001b[1G82.9 Mb [] 24% 2.1s\u001b[0K\u001b[1G82.9 Mb [] 25% 2.1s\u001b[0K\u001b[1G82.9 Mb [] 26% 2.1s\u001b[0K\u001b[1G82.9 Mb [] 27% 2.0s\u001b[0K\u001b[1G82.9 Mb [] 28% 2.0s\u001b[0K\u001b[1G82.9 Mb [] 29% 1.9s\u001b[0K\u001b[1G82.9 Mb [] 30% 1.9s\u001b[0K\u001b[1G82.9 Mb [] 31% 1.8s\u001b[0K\u001b[1G82.9 Mb [] 32% 1.8s\u001b[0K\u001b[1G82.9 Mb [] 33% 1.8s\u001b[0K\u001b[1G82.9 Mb [] 34% 1.7s\u001b[0K\u001b[1G82.9 Mb [] 35% 1.7s\u001b[0K\u001b[1G82.9 Mb [] 36% 1.7s\u001b[0K\u001b[1G82.9 Mb [] 37% 1.6s\u001b[0K\u001b[1G82.9 Mb [] 38% 1.6s\u001b[0K\u001b[1G82.9 Mb [] 38% 1.7s\u001b[0K\u001b[1G82.9 Mb [] 39% 1.6s\u001b[0K\u001b[1G82.9 Mb [] 40% 1.6s\u001b[0K\u001b[1G82.9 Mb [] 41% 1.5s\u001b[0K\u001b[1G82.9 Mb [] 42% 1.5s\u001b[0K\u001b[1G82.9 Mb [] 43% 1.5s\u001b[0K\u001b[1G82.9 Mb [] 44% 1.4s\u001b[0K\u001b[1G82.9 Mb [] 45% 1.4s\u001b[0K\u001b[1G82.9 Mb [] 46% 1.4s\u001b[0K\u001b[1G82.9 Mb [] 48% 1.3s\u001b[0K\u001b[1G82.9 Mb [] 49% 1.3s\u001b[0K\u001b[1G82.9 Mb [] 50% 1.3s\u001b[0K\u001b[1G82.9 Mb [] 51% 1.2s\u001b[0K\u001b[1G82.9 Mb [] 52% 1.2s\u001b[0K\u001b[1G82.9 Mb [] 53% 1.2s\u001b[0K\u001b[1G82.9 Mb [] 54% 1.1s\u001b[0K\u001b[1G82.9 Mb [] 55% 1.1s\u001b[0K\u001b[1G82.9 Mb [] 56% 1.1s\u001b[0K\u001b[1G82.9 Mb [] 57% 1.1s\u001b[0K\u001b[1G82.9 Mb [] 59% 1.0s\u001b[0K\u001b[1G82.9 Mb [] 60% 1.0s\u001b[0K\u001b[1G82.9 Mb [] 61% 1.0s\u001b[0K\u001b[1G82.9 Mb [] 62% 0.9s\u001b[0K\u001b[1G82.9 Mb [] 63% 0.9s\u001b[0K\u001b[1G82.9 Mb [] 65% 0.9s\u001b[0K\u001b[1G82.9 Mb [] 65% 0.8s\u001b[0K\u001b[1G82.9 Mb [] 66% 0.8s\u001b[0K\u001b[1G82.9 Mb [] 68% 0.8s\u001b[0K\u001b[1G82.9 Mb [] 69% 0.7s\u001b[0K\u001b[1G82.9 Mb [] 70% 0.7s\u001b[0K\u001b[1G82.9 Mb [] 71% 0.7s\u001b[0K\u001b[1G82.9 Mb [] 72% 0.6s\u001b[0K\u001b[1G82.9 Mb [] 72% 0.7s\u001b[0K\u001b[1G82.9 Mb [] 73% 0.6s\u001b[0K\u001b[1G82.9 Mb [] 74% 0.6s\u001b[0K\u001b[1G82.9 Mb [] 76% 0.6s\u001b[0K\u001b[1G82.9 Mb [] 78% 0.5s\u001b[0K\u001b[1G82.9 Mb [] 80% 0.4s\u001b[0K\u001b[1G82.9 Mb [] 82% 0.4s\u001b[0K\u001b[1G82.9 Mb [] 84% 0.3s\u001b[0K\u001b[1G82.9 Mb [] 86% 0.3s\u001b[0K\u001b[1G82.9 Mb [] 88% 0.2s\u001b[0K\u001b[1G82.9 Mb [] 90% 0.2s\u001b[0K\u001b[1G82.9 Mb [] 92% 0.2s\u001b[0K\u001b[1G82.9 Mb [] 94% 0.1s\u001b[0K\u001b[1G82.9 Mb [] 96% 0.1s\u001b[0K\u001b[1G82.9 Mb [] 98% 0.0s\u001b[0K\u001b[1G82.9 Mb [] 100% 0.0s\u001b[0K\n",
            "Webkit 17.4 (playwright build v1921) downloaded to /root/.cache/ms-playwright/webkit-1921\n",
            "Installing dependencies...\n",
            "Get:1 http://security.ubuntu.com/ubuntu jammy-security InRelease [110 kB]\n",
            "Get:2 https://cloud.r-project.org/bin/linux/ubuntu jammy-cran40/ InRelease [3,626 B]\n",
            "Hit:3 https://developer.download.nvidia.com/compute/cuda/repos/ubuntu2204/x86_64  InRelease\n",
            "Get:4 https://cloud.r-project.org/bin/linux/ubuntu jammy-cran40/ Packages [46.6 kB]\n",
            "Get:5 https://ppa.launchpadcontent.net/c2d4u.team/c2d4u4.0+/ubuntu jammy InRelease [18.1 kB]\n",
            "Hit:6 https://ppa.launchpadcontent.net/deadsnakes/ppa/ubuntu jammy InRelease\n",
            "Hit:7 https://ppa.launchpadcontent.net/graphics-drivers/ppa/ubuntu jammy InRelease\n",
            "Hit:8 https://ppa.launchpadcontent.net/ubuntugis/ppa/ubuntu jammy InRelease\n",
            "Get:9 https://ppa.launchpadcontent.net/c2d4u.team/c2d4u4.0+/ubuntu jammy/main Sources [2,231 kB]\n",
            "Get:10 https://ppa.launchpadcontent.net/c2d4u.team/c2d4u4.0+/ubuntu jammy/main amd64 Packages [1,145 kB]\n",
            "Hit:11 http://archive.ubuntu.com/ubuntu jammy InRelease\n",
            "Get:12 http://archive.ubuntu.com/ubuntu jammy-updates InRelease [119 kB]\n",
            "Get:13 http://archive.ubuntu.com/ubuntu jammy-backports InRelease [109 kB]\n",
            "Get:14 http://archive.ubuntu.com/ubuntu jammy-updates/restricted amd64 Packages [1,419 kB]\n",
            "Get:15 http://archive.ubuntu.com/ubuntu jammy-updates/multiverse amd64 Packages [49.9 kB]\n",
            "Fetched 5,251 kB in 4s (1,265 kB/s)\n",
            "Reading package lists... Done\n",
            "Reading package lists... Done\n",
            "Building dependency tree... Done\n",
            "Reading state information... Done\n",
            "fonts-liberation is already the newest version (1:1.07.4-11).\n",
            "libasound2 is already the newest version (1.2.6.1-1ubuntu1).\n",
            "libasound2 set to manually installed.\n",
            "libatk1.0-0 is already the newest version (2.36.0-3build1).\n",
            "libatk1.0-0 set to manually installed.\n",
            "libcairo-gobject2 is already the newest version (1.16.0-5ubuntu2).\n",
            "libcairo-gobject2 set to manually installed.\n",
            "libcairo2 is already the newest version (1.16.0-5ubuntu2).\n",
            "libcairo2 set to manually installed.\n",
            "libfontconfig1 is already the newest version (2.13.1-4.2ubuntu5).\n",
            "libfontconfig1 set to manually installed.\n",
            "libxcb-shm0 is already the newest version (1.14-3ubuntu3).\n",
            "libxcb-shm0 set to manually installed.\n",
            "libxcb1 is already the newest version (1.14-3ubuntu3).\n",
            "libxcb1 set to manually installed.\n",
            "libxcomposite1 is already the newest version (1:0.4.5-1build2).\n",
            "libxcomposite1 set to manually installed.\n",
            "libxcursor1 is already the newest version (1:1.2.0-2build4).\n",
            "libxcursor1 set to manually installed.\n",
            "libxdamage1 is already the newest version (1:1.1.5-2build2).\n",
            "libxdamage1 set to manually installed.\n",
            "libxext6 is already the newest version (2:1.3.4-1build1).\n",
            "libxfixes3 is already the newest version (1:6.0.0-1).\n",
            "libxfixes3 set to manually installed.\n",
            "libxi6 is already the newest version (2:1.8-1build1).\n",
            "libxi6 set to manually installed.\n",
            "libxrandr2 is already the newest version (2:1.5.2-1build1).\n",
            "libxrandr2 set to manually installed.\n",
            "libxrender1 is already the newest version (1:0.9.10-1build4).\n",
            "libxrender1 set to manually installed.\n",
            "libdbus-1-3 is already the newest version (1.12.20-2ubuntu4.1).\n",
            "libdbus-1-3 set to manually installed.\n",
            "libfreetype6 is already the newest version (2.11.1+dfsg-1ubuntu0.2).\n",
            "libfreetype6 set to manually installed.\n",
            "libgdk-pixbuf-2.0-0 is already the newest version (2.42.8+dfsg-1ubuntu0.2).\n",
            "libgdk-pixbuf-2.0-0 set to manually installed.\n",
            "libglib2.0-0 is already the newest version (2.72.4-0ubuntu2.2).\n",
            "libglib2.0-0 set to manually installed.\n",
            "libgtk-3-0 is already the newest version (3.24.33-1ubuntu2).\n",
            "libgtk-3-0 set to manually installed.\n",
            "libpango-1.0-0 is already the newest version (1.50.6+ds-2ubuntu1).\n",
            "libpango-1.0-0 set to manually installed.\n",
            "libpangocairo-1.0-0 is already the newest version (1.50.6+ds-2ubuntu1).\n",
            "libpangocairo-1.0-0 set to manually installed.\n",
            "libx11-6 is already the newest version (2:1.7.5-1ubuntu0.3).\n",
            "libx11-6 set to manually installed.\n",
            "libx11-xcb1 is already the newest version (2:1.7.5-1ubuntu0.3).\n",
            "libx11-xcb1 set to manually installed.\n",
            "ffmpeg is already the newest version (7:4.4.2-0ubuntu0.22.04.1).\n",
            "The following additional packages will be installed:\n",
            "  libfontenc1 libxfont2 libxkbfile1 x11-xkb-utils xfonts-encodings xfonts-utils xserver-common\n",
            "Recommended packages:\n",
            "  fonts-ipafont-mincho fonts-tlwg-loma xfonts-base\n",
            "The following NEW packages will be installed:\n",
            "  fonts-freefont-ttf fonts-ipafont-gothic fonts-noto-color-emoji fonts-tlwg-loma-otf fonts-unifont\n",
            "  fonts-wqy-zenhei libdbus-glib-1-2 libfontenc1 libxfont2 libxkbfile1 libxtst6 x11-xkb-utils\n",
            "  xfonts-cyrillic xfonts-encodings xfonts-scalable xfonts-utils xserver-common xvfb\n",
            "0 upgraded, 18 newly installed, 0 to remove and 24 not upgraded.\n",
            "Need to get 29.5 MB of archives.\n",
            "After this operation, 71.3 MB of additional disk space will be used.\n",
            "Get:1 http://archive.ubuntu.com/ubuntu jammy/universe amd64 fonts-ipafont-gothic all 00303-21ubuntu1 [3,513 kB]\n",
            "Get:2 http://archive.ubuntu.com/ubuntu jammy/main amd64 fonts-freefont-ttf all 20120503-10build1 [2,388 kB]\n",
            "Get:3 http://archive.ubuntu.com/ubuntu jammy-updates/main amd64 fonts-noto-color-emoji all 2.038-0ubuntu1 [9,755 kB]\n",
            "Get:4 http://archive.ubuntu.com/ubuntu jammy/universe amd64 fonts-tlwg-loma-otf all 1:0.7.3-1 [107 kB]\n",
            "Get:5 http://archive.ubuntu.com/ubuntu jammy/universe amd64 fonts-unifont all 1:14.0.01-1 [3,551 kB]\n",
            "Get:6 http://archive.ubuntu.com/ubuntu jammy/universe amd64 fonts-wqy-zenhei all 0.9.45-8 [7,472 kB]\n",
            "Get:7 http://archive.ubuntu.com/ubuntu jammy/main amd64 libdbus-glib-1-2 amd64 0.112-2build1 [65.4 kB]\n",
            "Get:8 http://archive.ubuntu.com/ubuntu jammy/main amd64 libfontenc1 amd64 1:1.1.4-1build3 [14.7 kB]\n",
            "Get:9 http://archive.ubuntu.com/ubuntu jammy/main amd64 libxfont2 amd64 1:2.0.5-1build1 [94.5 kB]\n",
            "Get:10 http://archive.ubuntu.com/ubuntu jammy/main amd64 libxkbfile1 amd64 1:1.1.0-1build3 [71.8 kB]\n",
            "Get:11 http://archive.ubuntu.com/ubuntu jammy/main amd64 libxtst6 amd64 2:1.2.3-1build4 [13.4 kB]\n",
            "Get:12 http://archive.ubuntu.com/ubuntu jammy/main amd64 x11-xkb-utils amd64 7.7+5build4 [172 kB]\n",
            "Get:13 http://archive.ubuntu.com/ubuntu jammy/main amd64 xfonts-encodings all 1:1.0.5-0ubuntu2 [578 kB]\n",
            "Get:14 http://archive.ubuntu.com/ubuntu jammy/main amd64 xfonts-utils amd64 1:7.7+6build2 [94.6 kB]\n",
            "Get:15 http://archive.ubuntu.com/ubuntu jammy/universe amd64 xfonts-cyrillic all 1:1.0.5 [386 kB]\n",
            "Get:16 http://archive.ubuntu.com/ubuntu jammy/main amd64 xfonts-scalable all 1:1.0.3-1.2ubuntu1 [306 kB]\n",
            "Get:17 http://archive.ubuntu.com/ubuntu jammy-updates/main amd64 xserver-common all 2:21.1.4-2ubuntu1.7~22.04.2 [28.1 kB]\n",
            "Get:18 http://archive.ubuntu.com/ubuntu jammy-updates/universe amd64 xvfb amd64 2:21.1.4-2ubuntu1.7~22.04.2 [864 kB]\n",
            "Fetched 29.5 MB in 3s (10.1 MB/s)\n",
            "Selecting previously unselected package fonts-ipafont-gothic.\n",
            "(Reading database ... 120874 files and directories currently installed.)\n",
            "Preparing to unpack .../00-fonts-ipafont-gothic_00303-21ubuntu1_all.deb ...\n",
            "Unpacking fonts-ipafont-gothic (00303-21ubuntu1) ...\n",
            "Selecting previously unselected package fonts-freefont-ttf.\n",
            "Preparing to unpack .../01-fonts-freefont-ttf_20120503-10build1_all.deb ...\n",
            "Unpacking fonts-freefont-ttf (20120503-10build1) ...\n",
            "Selecting previously unselected package fonts-noto-color-emoji.\n",
            "Preparing to unpack .../02-fonts-noto-color-emoji_2.038-0ubuntu1_all.deb ...\n",
            "Unpacking fonts-noto-color-emoji (2.038-0ubuntu1) ...\n",
            "Selecting previously unselected package fonts-tlwg-loma-otf.\n",
            "Preparing to unpack .../03-fonts-tlwg-loma-otf_1%3a0.7.3-1_all.deb ...\n",
            "Unpacking fonts-tlwg-loma-otf (1:0.7.3-1) ...\n",
            "Selecting previously unselected package fonts-unifont.\n",
            "Preparing to unpack .../04-fonts-unifont_1%3a14.0.01-1_all.deb ...\n",
            "Unpacking fonts-unifont (1:14.0.01-1) ...\n",
            "Selecting previously unselected package fonts-wqy-zenhei.\n",
            "Preparing to unpack .../05-fonts-wqy-zenhei_0.9.45-8_all.deb ...\n",
            "Unpacking fonts-wqy-zenhei (0.9.45-8) ...\n",
            "Selecting previously unselected package libdbus-glib-1-2:amd64.\n",
            "Preparing to unpack .../06-libdbus-glib-1-2_0.112-2build1_amd64.deb ...\n",
            "Unpacking libdbus-glib-1-2:amd64 (0.112-2build1) ...\n",
            "Selecting previously unselected package libfontenc1:amd64.\n",
            "Preparing to unpack .../07-libfontenc1_1%3a1.1.4-1build3_amd64.deb ...\n",
            "Unpacking libfontenc1:amd64 (1:1.1.4-1build3) ...\n",
            "Selecting previously unselected package libxfont2:amd64.\n",
            "Preparing to unpack .../08-libxfont2_1%3a2.0.5-1build1_amd64.deb ...\n",
            "Unpacking libxfont2:amd64 (1:2.0.5-1build1) ...\n",
            "Selecting previously unselected package libxkbfile1:amd64.\n",
            "Preparing to unpack .../09-libxkbfile1_1%3a1.1.0-1build3_amd64.deb ...\n",
            "Unpacking libxkbfile1:amd64 (1:1.1.0-1build3) ...\n",
            "Selecting previously unselected package libxtst6:amd64.\n",
            "Preparing to unpack .../10-libxtst6_2%3a1.2.3-1build4_amd64.deb ...\n",
            "Unpacking libxtst6:amd64 (2:1.2.3-1build4) ...\n",
            "Selecting previously unselected package x11-xkb-utils.\n",
            "Preparing to unpack .../11-x11-xkb-utils_7.7+5build4_amd64.deb ...\n",
            "Unpacking x11-xkb-utils (7.7+5build4) ...\n",
            "Selecting previously unselected package xfonts-encodings.\n",
            "Preparing to unpack .../12-xfonts-encodings_1%3a1.0.5-0ubuntu2_all.deb ...\n",
            "Unpacking xfonts-encodings (1:1.0.5-0ubuntu2) ...\n",
            "Selecting previously unselected package xfonts-utils.\n",
            "Preparing to unpack .../13-xfonts-utils_1%3a7.7+6build2_amd64.deb ...\n",
            "Unpacking xfonts-utils (1:7.7+6build2) ...\n",
            "Selecting previously unselected package xfonts-cyrillic.\n",
            "Preparing to unpack .../14-xfonts-cyrillic_1%3a1.0.5_all.deb ...\n",
            "Unpacking xfonts-cyrillic (1:1.0.5) ...\n",
            "Selecting previously unselected package xfonts-scalable.\n",
            "Preparing to unpack .../15-xfonts-scalable_1%3a1.0.3-1.2ubuntu1_all.deb ...\n",
            "Unpacking xfonts-scalable (1:1.0.3-1.2ubuntu1) ...\n",
            "Selecting previously unselected package xserver-common.\n",
            "Preparing to unpack .../16-xserver-common_2%3a21.1.4-2ubuntu1.7~22.04.2_all.deb ...\n",
            "Unpacking xserver-common (2:21.1.4-2ubuntu1.7~22.04.2) ...\n",
            "Selecting previously unselected package xvfb.\n",
            "Preparing to unpack .../17-xvfb_2%3a21.1.4-2ubuntu1.7~22.04.2_amd64.deb ...\n",
            "Unpacking xvfb (2:21.1.4-2ubuntu1.7~22.04.2) ...\n",
            "Setting up fonts-noto-color-emoji (2.038-0ubuntu1) ...\n",
            "Setting up libxtst6:amd64 (2:1.2.3-1build4) ...\n",
            "Setting up fonts-wqy-zenhei (0.9.45-8) ...\n",
            "Setting up fonts-freefont-ttf (20120503-10build1) ...\n",
            "Setting up libfontenc1:amd64 (1:1.1.4-1build3) ...\n",
            "Setting up fonts-tlwg-loma-otf (1:0.7.3-1) ...\n",
            "Setting up libdbus-glib-1-2:amd64 (0.112-2build1) ...\n",
            "Setting up xfonts-encodings (1:1.0.5-0ubuntu2) ...\n",
            "Setting up fonts-ipafont-gothic (00303-21ubuntu1) ...\n",
            "update-alternatives: using /usr/share/fonts/opentype/ipafont-gothic/ipag.ttf to provide /usr/share/fonts/truetype/fonts-japanese-gothic.ttf (fonts-japanese-gothic.ttf) in auto mode\n",
            "Setting up libxkbfile1:amd64 (1:1.1.0-1build3) ...\n",
            "Setting up libxfont2:amd64 (1:2.0.5-1build1) ...\n",
            "Setting up fonts-unifont (1:14.0.01-1) ...\n",
            "Setting up x11-xkb-utils (7.7+5build4) ...\n",
            "Setting up xfonts-utils (1:7.7+6build2) ...\n",
            "Setting up xfonts-cyrillic (1:1.0.5) ...\n",
            "Setting up xserver-common (2:21.1.4-2ubuntu1.7~22.04.2) ...\n",
            "Setting up xfonts-scalable (1:1.0.3-1.2ubuntu1) ...\n",
            "Setting up xvfb (2:21.1.4-2ubuntu1.7~22.04.2) ...\n",
            "Processing triggers for man-db (2.10.2-1) ...\n",
            "Processing triggers for fontconfig (2.13.1-4.2ubuntu5) ...\n",
            "Processing triggers for libc-bin (2.35-0ubuntu3.1) ...\n",
            "/sbin/ldconfig.real: /usr/local/lib/libtbbmalloc_proxy.so.2 is not a symbolic link\n",
            "\n",
            "/sbin/ldconfig.real: /usr/local/lib/libtbbbind_2_0.so.3 is not a symbolic link\n",
            "\n",
            "/sbin/ldconfig.real: /usr/local/lib/libtbbmalloc.so.2 is not a symbolic link\n",
            "\n",
            "/sbin/ldconfig.real: /usr/local/lib/libtbb.so.12 is not a symbolic link\n",
            "\n",
            "/sbin/ldconfig.real: /usr/local/lib/libtbbbind_2_5.so.3 is not a symbolic link\n",
            "\n",
            "/sbin/ldconfig.real: /usr/local/lib/libtbbbind.so.3 is not a symbolic link\n",
            "\n"
          ]
        }
      ],
      "source": [
        "import os\n",
        "from bs4 import BeautifulSoup\n",
        "!pip install playwright\n",
        "!playwright install\n",
        "!playwright install-deps firefox\n",
        "from playwright.async_api import async_playwright, TimeoutError as PlaywrightTimeout\n",
        "import re\n",
        "import pandas as pd"
      ]
    },
    {
      "cell_type": "markdown",
      "source": [
        "## Task 2.4 Initializing Functions\n",
        "This is a fun step! <br>\n",
        "Just hit run on every cell that says \"# function run me\""
      ],
      "metadata": {
        "id": "XDaeQZ2dBcG4"
      }
    },
    {
      "cell_type": "code",
      "source": [
        "# function run me\n",
        "async def get_html(url,selector,sleep =5, retries =3):\n",
        "    html = None\n",
        "    for i in range(1, retries+1):\n",
        "        time.sleep(sleep *i)\n",
        "\n",
        "        try:\n",
        "            async with async_playwright() as p:\n",
        "#                 chromium is open sourced version of chrome\n",
        "                browser = await p.firefox.launch()\n",
        "                page = await browser.new_page()\n",
        "                await page.goto(url)\n",
        "                print(await page.title())\n",
        "                html = await page.inner_html(selector)\n",
        "        except PlaywrightTimeout:\n",
        "            print(f\"Timeout error on {url}\")\n",
        "            continue\n",
        "        else:\n",
        "            break\n",
        "    return html"
      ],
      "metadata": {
        "id": "sXAM8fP0If_J"
      },
      "execution_count": null,
      "outputs": []
    },
    {
      "cell_type": "code",
      "source": [
        "# function run me\n",
        "# sus manipulation of playoff results table to get correct elmination order\n",
        "def filterTeams(arr):\n",
        "    teamPgsRev = list(reversed(arr))\n",
        "    finalTeams = []\n",
        "    for i in teamPgsRev:\n",
        "        if i not in finalTeams:\n",
        "            finalTeams.append(i)\n",
        "    [finalTeams[0],finalTeams[1]] = [finalTeams[1],finalTeams[0]]\n",
        "    return finalTeams"
      ],
      "metadata": {
        "id": "tW6L-6TnIiWq"
      },
      "execution_count": null,
      "outputs": []
    },
    {
      "cell_type": "code",
      "source": [
        "# function run me\n",
        "def getResult(index):\n",
        "    if index <= 0 :\n",
        "      return 5\n",
        "    elif index <= 1:\n",
        "      return 4\n",
        "    elif index <= 3:\n",
        "      return 3\n",
        "    elif index <= 7:\n",
        "      return 2\n",
        "    else :\n",
        "      return 1"
      ],
      "metadata": {
        "id": "zQQkV1zLIkLo"
      },
      "execution_count": null,
      "outputs": []
    },
    {
      "cell_type": "code",
      "source": [
        "# function run me\n",
        "def getYear(url):\n",
        "    yr = int(url[url.find(\".htm\")-4:url.find(\".htm\")]);\n",
        "    return yr;"
      ],
      "metadata": {
        "id": "Qj-bcE1nIn3l"
      },
      "execution_count": null,
      "outputs": []
    },
    {
      "cell_type": "code",
      "source": [
        "# function run me\n",
        "def getSeasonYear(url):\n",
        "  yr = int(url[url.find(\"index.htm\")-5:url.find(\"index.htm\")-1])\n",
        "  return yr;"
      ],
      "metadata": {
        "id": "gSUTd8cedyyi"
      },
      "execution_count": null,
      "outputs": []
    },
    {
      "cell_type": "code",
      "source": [
        "# function run me\n",
        "def getAbbrv(url):\n",
        "    abbrv = url[url.index(\"teams/\")+6:url.index(\".htm\")-5];\n",
        "    return abbrv;"
      ],
      "metadata": {
        "id": "Q4_li8XFIsv9"
      },
      "execution_count": null,
      "outputs": []
    },
    {
      "cell_type": "code",
      "source": [
        "# function run me\n",
        "def getWins(string):\n",
        "    w = int(string[:string.find(\"-\")])\n",
        "    return w;"
      ],
      "metadata": {
        "id": "Z4zIBBCqIvMd"
      },
      "execution_count": null,
      "outputs": []
    },
    {
      "cell_type": "code",
      "source": [
        "# function run me\n",
        "# sus url manipulation to get the next year\n",
        "def getNext(url,diff):\n",
        "    base = url[:url.find(\".htm\")-5]\n",
        "    yr = getYear(url)+diff;\n",
        "    if((yr > 2023) or (yr < 19)):\n",
        "        return \"\";\n",
        "    return f\"{base}/{yr}.htm\";"
      ],
      "metadata": {
        "id": "ge_byMydIxgC"
      },
      "execution_count": null,
      "outputs": []
    },
    {
      "cell_type": "code",
      "source": [
        "# function run me\n",
        "def nameTeam(link):\n",
        "    return getAbbrv(link)+str(getYear(link))+\".htm\";"
      ],
      "metadata": {
        "id": "E1JceRUeY5L9"
      },
      "execution_count": null,
      "outputs": []
    },
    {
      "cell_type": "code",
      "source": [
        "# function run me\n",
        "#get record from html\n",
        "async def getRec(link):\n",
        "    html = await savePath(link,\"#meta\")\n",
        "    html = BeautifulSoup(html)\n",
        "    string = html.find_all(\"p\")[2].getText()\n",
        "    strR = string[string.find(\":\")+2:string.find(\",\")]\n",
        "    return strR"
      ],
      "metadata": {
        "id": "rYcVBhQhIzuM"
      },
      "execution_count": null,
      "outputs": []
    },
    {
      "cell_type": "code",
      "source": [
        "# function run me\n",
        "async def scrape_season(season):\n",
        "    base = f\"https://www.pro-football-reference.com\";\n",
        "    url = f\"{base}/years/{season}/index.htm\"\n",
        "    html = BeautifulSoup(await savePath(url,\"#div_playoff_results\"))\n",
        "    # html = BeautifulSoup(await get_html(url, \"#div_playoff_results\"))\n",
        "    a_tags = html.find_all(\"a\");\n",
        "    hrefs = [a[\"href\"]  for a in a_tags];\n",
        "    teams = [l for l in hrefs if \"/teams/\" in l];\n",
        "    finalTeams = filterTeams(teams);\n",
        "    finalTeams = [base + t for t in finalTeams]\n",
        "    # ret = [[t,getNext(t,1),getAbbrv(t),getYear(t)] for t in finalTeams]\n",
        "    ret = [[t,getResult(i),getNext(t,1),getAbbrv(t),getYear(t)] for i,t in enumerate(finalTeams)]\n",
        "    return ret"
      ],
      "metadata": {
        "id": "S5Pk-TNyI1qP"
      },
      "execution_count": null,
      "outputs": []
    },
    {
      "cell_type": "code",
      "source": [
        "cache = [];"
      ],
      "metadata": {
        "id": "7eea4CvsWgV_"
      },
      "execution_count": null,
      "outputs": []
    },
    {
      "cell_type": "code",
      "source": [
        "async def savePath(url,tag):\n",
        "  for arr in cache:\n",
        "    if url == arr[0] :\n",
        "      return arr[1];\n",
        "  ret = cache.append([url,await get_html(url, tag)])"
      ],
      "metadata": {
        "id": "GVXlbduKCK2R"
      },
      "execution_count": null,
      "outputs": []
    },
    {
      "cell_type": "code",
      "source": [
        "season = 2022;\n",
        "url = \"https://www.pro-football-reference.com/years/1999/\"\n",
        "# years = list(range(1970,2022));\n",
        "s22 = await scrape_season(2022);\n",
        "# s22 = [[await getRec(arr[0]),arr[1],await getRec(arr[2]),arr[3],arr[4]] for arr in s22]\n",
        "# await getRec(s22[0][0])\n",
        "s22;"
      ],
      "metadata": {
        "id": "cFXeenQBJExN"
      },
      "execution_count": null,
      "outputs": []
    },
    {
      "cell_type": "code",
      "source": [
        "r = await getRec(s22[0][0])\n",
        "r"
      ],
      "metadata": {
        "colab": {
          "base_uri": "https://localhost:8080/",
          "height": 35
        },
        "id": "ndkKQzi6D48A",
        "outputId": "95312320-87e5-489a-e2e0-1f2c82b5d7c9"
      },
      "execution_count": null,
      "outputs": [
        {
          "output_type": "execute_result",
          "data": {
            "text/plain": [
              "'14-3-0'"
            ],
            "application/vnd.google.colaboratory.intrinsic+json": {
              "type": "string"
            }
          },
          "metadata": {},
          "execution_count": 55
        }
      ]
    },
    {
      "cell_type": "code",
      "source": [
        "len(cache)"
      ],
      "metadata": {
        "colab": {
          "base_uri": "https://localhost:8080/"
        },
        "id": "1pk80msjEbE3",
        "outputId": "7bf75af1-c087-464e-b831-ae9741e01e92"
      },
      "execution_count": null,
      "outputs": [
        {
          "output_type": "execute_result",
          "data": {
            "text/plain": [
              "2"
            ]
          },
          "metadata": {},
          "execution_count": 57
        }
      ]
    },
    {
      "cell_type": "markdown",
      "source": [
        "## New Section"
      ],
      "metadata": {
        "id": "shKbHprFnZ9r"
      }
    }
  ]
}