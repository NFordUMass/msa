{
  "nbformat": 4,
  "nbformat_minor": 0,
  "metadata": {
    "colab": {
      "provenance": [],
      "toc_visible": true,
      "collapsed_sections": [
        "t08jzmIt8mut"
      ]
    },
    "kernelspec": {
      "name": "python3",
      "display_name": "Python 3"
    },
    "language_info": {
      "name": "python"
    }
  },
  "cells": [
    {
      "cell_type": "markdown",
      "source": [
        "# Welcome to the MSA Python Workshop!\n",
        "*Created by Noah Ford* <br> <br>\n",
        "Follow along the slide presentation [here](https://docs.google.com/presentation/d/12b0nR7dLurQ2r9jYIiKhottMmfrfKHE6eJDeep_I_ZQ/edit?usp=sharing) to help complete the tasks outlined for you. <br> <br>\n",
        "In short, we will take you from absolute CS to beginner to CS 389: Machine Learning within one hour! (okay maybe not that far)"
      ],
      "metadata": {
        "id": "vJyh9azUlvgk"
      }
    },
    {
      "cell_type": "markdown",
      "source": [
        "## Task 2.1 Getting Set-Up\n",
        "Before you go any further in this notebook, make sure you are own your own copy! <br> <br>\n",
        "Look at Task 2.1.1 for copying instructions. <br> <br>\n",
        "The great thing about Google Colab is that people can work together, but we don't want that here!\n"
      ],
      "metadata": {
        "id": "E_I6K0UG-_sV"
      }
    },
    {
      "cell_type": "markdown",
      "source": [
        "## Task 2.2 Understanding CoLab\n",
        "If you a complete beginner to coding, then CoLab is a great place to start! <br> <br>\n",
        "You can mix blocks of code and blocks of text!"
      ],
      "metadata": {
        "id": "7KfU4dO2njIJ"
      }
    },
    {
      "cell_type": "code",
      "source": [
        "\"code!\""
      ],
      "metadata": {
        "id": "S5q8Pz_OnGKz"
      },
      "execution_count": null,
      "outputs": []
    },
    {
      "cell_type": "markdown",
      "source": [
        "text!"
      ],
      "metadata": {
        "id": "hujM3mjeo9h-"
      }
    },
    {
      "cell_type": "markdown",
      "source": [
        "### Task 2.2.1 Run a code block!"
      ],
      "metadata": {
        "id": "ZCK05zKBpF79"
      }
    },
    {
      "cell_type": "code",
      "source": [
        "\"run me!\""
      ],
      "metadata": {
        "id": "Ty5pSNL0p1sr"
      },
      "execution_count": null,
      "outputs": []
    },
    {
      "cell_type": "markdown",
      "source": [
        "You did it!\n",
        "Let's do it again!"
      ],
      "metadata": {
        "id": "S9kQWkLup6wC"
      }
    },
    {
      "cell_type": "code",
      "source": [
        "# I'm a comment, run me!"
      ],
      "metadata": {
        "id": "JbrjEaxZy0hR"
      },
      "execution_count": null,
      "outputs": []
    },
    {
      "cell_type": "markdown",
      "source": [
        "That's right, no output. <br>\n",
        "Comments do not affect code in any way. <br>\n",
        "They are for us, not the computer."
      ],
      "metadata": {
        "id": "PMvI9nwpy8TC"
      }
    },
    {
      "cell_type": "markdown",
      "source": [
        "Ok, one more time!"
      ],
      "metadata": {
        "id": "hJ-8fgT4zKR2"
      }
    },
    {
      "cell_type": "code",
      "source": [
        "# run me!\n",
        "2023 - 1970"
      ],
      "metadata": {
        "id": "MsKmLsxezLrU"
      },
      "execution_count": null,
      "outputs": []
    },
    {
      "cell_type": "markdown",
      "source": [
        "That's right, we can do math, and many operations here!"
      ],
      "metadata": {
        "id": "2xvEU2F_zSaw"
      }
    },
    {
      "cell_type": "code",
      "source": [
        "4 > 3"
      ],
      "metadata": {
        "id": "uwaN8eyvzYr-"
      },
      "execution_count": null,
      "outputs": []
    },
    {
      "cell_type": "code",
      "source": [
        "\"i\" in \"team\""
      ],
      "metadata": {
        "id": "PGTxKuxV0K7Z"
      },
      "execution_count": null,
      "outputs": []
    },
    {
      "cell_type": "code",
      "source": [
        "\"i\" in \"win\""
      ],
      "metadata": {
        "id": "37tRRcLx0OuZ"
      },
      "execution_count": null,
      "outputs": []
    },
    {
      "cell_type": "markdown",
      "source": [
        "### Task 2.2.1 Variable Assignment"
      ],
      "metadata": {
        "id": "qdgG9uV31h75"
      }
    },
    {
      "cell_type": "markdown",
      "source": [
        "Go to [*statmuse*](https://www.statmuse.com/nfl/ask/most-road-playoff-wins-by-a-quarterback) and fill out the variables below. <br>\n",
        "Put the values you find where the #TODO text is."
      ],
      "metadata": {
        "id": "M7IFkwil1o79"
      }
    },
    {
      "cell_type": "code",
      "source": [
        "tomBradyRoadPlayoffWins = 11\n",
        "markSanchezRoadPlayoffWins = -1 #TODO\n",
        "brettFarveRoadPlayoffWins = -1 #TODO\n",
        "markSanchezRoadPlayoffWins > brettFarveRoadPlayoffWins"
      ],
      "metadata": {
        "id": "HxbvC31Fzu1H"
      },
      "execution_count": null,
      "outputs": []
    },
    {
      "cell_type": "markdown",
      "source": [
        "We can see this is essentially the same code as above when we wrote: <br>\n",
        "4 > 3"
      ],
      "metadata": {
        "id": "PPV-0Byk3Kgs"
      }
    },
    {
      "cell_type": "markdown",
      "source": [
        "**What do we think will print below?**"
      ],
      "metadata": {
        "id": "YM4hz4BJl6yb"
      }
    },
    {
      "cell_type": "code",
      "source": [
        "patrickMahomes = \"Chiefs\"\n",
        "tyreekHill = patrickMahomes\n",
        "tyreekHill"
      ],
      "metadata": {
        "id": "CKi6UBn9lsgG"
      },
      "execution_count": null,
      "outputs": []
    },
    {
      "cell_type": "markdown",
      "source": [
        "**What about now?**"
      ],
      "metadata": {
        "id": "JoLLaF0umGUn"
      }
    },
    {
      "cell_type": "code",
      "source": [
        "patrickMahomes = \"Chiefs\"\n",
        "tyreekHill = patrickMahomes\n",
        "tyreekHill = \"Dolphins\"\n",
        "patrickMahomes"
      ],
      "metadata": {
        "id": "-zE19aMRmBcj"
      },
      "execution_count": null,
      "outputs": []
    },
    {
      "cell_type": "markdown",
      "source": [
        "Did that surprise you?"
      ],
      "metadata": {
        "id": "R7miByzimfEi"
      }
    },
    {
      "cell_type": "markdown",
      "source": [
        "We can also work with true/false variables called **booleans** <br>"
      ],
      "metadata": {
        "id": "HKoMTcz9oVCk"
      }
    },
    {
      "cell_type": "code",
      "source": [
        "titansSuperBowlWin = False\n",
        "titansSuperBowlWin"
      ],
      "metadata": {
        "id": "TWyTQ5zboa2U"
      },
      "execution_count": null,
      "outputs": []
    },
    {
      "cell_type": "markdown",
      "source": [
        "We can use the **or** and **and** keywords to combine **boolean** expressions."
      ],
      "metadata": {
        "id": "jo2sr9vSowCz"
      }
    },
    {
      "cell_type": "code",
      "source": [
        "titansSuperBowlWin = False\n",
        "titansSuperBowlLoss = True\n",
        "titansSuperBowlAppearence = titansSuperBowlWin or titansSuperBowlLoss\n",
        "titansSuperBowlAppearence"
      ],
      "metadata": {
        "id": "rHgapJIvokr9"
      },
      "execution_count": null,
      "outputs": []
    },
    {
      "cell_type": "code",
      "source": [
        "titansSuperBowlLossAndWin = titansSuperBowlWin and titansSuperBowlLoss\n",
        "titansSuperBowlLossAndWin"
      ],
      "metadata": {
        "id": "98EYHxsto5D8"
      },
      "execution_count": null,
      "outputs": []
    },
    {
      "cell_type": "markdown",
      "source": [
        "Fix the code below to make the statement true! <br>\n",
        "(hint: You can change an operator (and or or))!"
      ],
      "metadata": {
        "id": "t_EFehgQpN5s"
      }
    },
    {
      "cell_type": "code",
      "source": [
        "jetsTitle = True\n",
        "zachWilsonGood = False\n",
        "garrettWilsonGood = True\n",
        "statement = (jetsTitle and zachWilsonGood) and garrettWilsonGood # change one thing in this line!\n",
        "statement"
      ],
      "metadata": {
        "id": "6y33TNiopJjY"
      },
      "execution_count": null,
      "outputs": []
    },
    {
      "cell_type": "markdown",
      "source": [
        "## Task 2.3 Installing Packages\n",
        "Ok, now to the meat of the data scrape! <br>\n",
        "We need some tools to help us."
      ],
      "metadata": {
        "id": "t08jzmIt8mut"
      }
    },
    {
      "cell_type": "code",
      "execution_count": 4,
      "metadata": {
        "id": "7gyEvzCJHcLX"
      },
      "outputs": [],
      "source": [
        "import os\n",
        "import aiohttp\n",
        "import asyncio\n",
        "import async_timeout\n",
        "import math\n",
        "# from playwright.async_api import async_playwright, TimeoutError as PlaywrightTimeout\n",
        "import time\n",
        "from bs4 import BeautifulSoup"
      ]
    },
    {
      "cell_type": "markdown",
      "source": [
        "## Task 2.4 Initializing Functions\n",
        "This is a fun step! <br>\n",
        "Run every cell with one click!"
      ],
      "metadata": {
        "id": "XDaeQZ2dBcG4"
      }
    },
    {
      "cell_type": "code",
      "source": [
        "# @title creating cache\n",
        "# only run this code one time!!!\n",
        "cache = []"
      ],
      "metadata": {
        "cellView": "form",
        "id": "TbqW79q_fhqm"
      },
      "execution_count": 5,
      "outputs": []
    },
    {
      "cell_type": "code",
      "source": [
        "# @title fetch html\n",
        "async def fetch_html(url, element_id, retries=3, delay=5):\n",
        "    attempt = 0\n",
        "    while attempt < retries:\n",
        "        try:\n",
        "            async with aiohttp.ClientSession() as session:\n",
        "                async with async_timeout.timeout(10):\n",
        "                    async with session.get(url) as response:\n",
        "                        if response.status == 200:\n",
        "                            html = await response.text()\n",
        "                            soup = BeautifulSoup(html, 'html.parser')\n",
        "                            selected_element = soup.find(id=element_id)\n",
        "                            if selected_element:\n",
        "                                return str(selected_element)\n",
        "                            else:\n",
        "                                print(f\"No element found with ID: {element_id}\")\n",
        "                        else:\n",
        "                            print(f\"Received unexpected status code: {response.status}\")\n",
        "        except aiohttp.ClientError as e:\n",
        "            print(f\"Request failed: {e}\")\n",
        "\n",
        "        attempt += 1\n",
        "        if attempt < retries:\n",
        "            print(f\"Retrying in {delay} seconds...\")\n",
        "            await asyncio.sleep(delay)\n",
        "\n",
        "    print(f\"Failed to fetch HTML content from {url} after {retries} attempts.\")\n",
        "    return None"
      ],
      "metadata": {
        "id": "sXAM8fP0If_J"
      },
      "execution_count": 6,
      "outputs": []
    },
    {
      "cell_type": "markdown",
      "source": [
        "## Task 3.1 Scrape Data"
      ],
      "metadata": {
        "id": "shKbHprFnZ9r"
      }
    },
    {
      "cell_type": "markdown",
      "source": [
        "### Task 3.1.4 Call fetch_html\n",
        "Now we've found where to look for the html, let's pull it! <br>\n",
        "Fill in the url and tag you found"
      ],
      "metadata": {
        "id": "NQ3hpELi5hkP"
      }
    },
    {
      "cell_type": "code",
      "source": [
        "url = \"https://www.pro-football-reference.com/years/2022/\" #TODO, from task 3.1.1 (leave \"\" around url!)\n",
        "tag = \"all_playoff_results\" #TODO, from task 3.1.3 (leave \"\" around tag!)"
      ],
      "metadata": {
        "id": "_2W-ljfU5w1D"
      },
      "execution_count": 1,
      "outputs": []
    },
    {
      "cell_type": "markdown",
      "source": [
        "*await* <br>\n",
        "short answer = this may take a minute to load <br>\n",
        "long answer: we compute this function on a separate \"asynchronous\" thread as our code relies on receiving information from another website"
      ],
      "metadata": {
        "id": "p5GUsJwHYxtT"
      }
    },
    {
      "cell_type": "code",
      "source": [
        "#run me!\n",
        "results = BeautifulSoup(await fetch_html(url,tag),'html.parser')\n",
        "results.prettify()"
      ],
      "metadata": {
        "id": "v1hinx7W5AQ_"
      },
      "execution_count": null,
      "outputs": []
    },
    {
      "cell_type": "markdown",
      "source": [
        "From here, we can access all of the data we need to build the following dataframe.  We won't be going into detail with how to collect that data in this workshop, but be sure it is a fun exercise!"
      ],
      "metadata": {
        "id": "KQGpvuSY8Tc_"
      }
    },
    {
      "cell_type": "markdown",
      "source": [
        "## Task 4.0 Import CSV"
      ],
      "metadata": {
        "id": "6xgt5qn6MJJ6"
      }
    },
    {
      "cell_type": "markdown",
      "source": [
        "For the remainder of the workshop, you will be working with this set of pulled data"
      ],
      "metadata": {
        "id": "XJGz1dbHQrCv"
      }
    },
    {
      "cell_type": "code",
      "source": [
        "import pandas as pd\n",
        "raw = \"https://raw.githubusercontent.com/NFordUMass/msa/gh-pages/assets/python/output3.csv\"\n",
        "\n",
        "# here, we are creating a data frame from the csv\n",
        "df = pd.read_csv(raw)\n",
        "\n",
        "# df is now the variable storing your dataframe\n",
        "df"
      ],
      "metadata": {
        "id": "XGSCdrWQMhSB"
      },
      "execution_count": null,
      "outputs": []
    },
    {
      "cell_type": "markdown",
      "source": [
        "Each row is a playoff team's stats for the year, and the stats for the team the next year."
      ],
      "metadata": {
        "id": "hrhIfvg4UmuR"
      }
    },
    {
      "cell_type": "markdown",
      "source": [
        "## Task 4.1 Playing with Data"
      ],
      "metadata": {
        "id": "RLN52p-KW02S"
      }
    },
    {
      "cell_type": "markdown",
      "source": [
        "First, find out what the data looks like!"
      ],
      "metadata": {
        "id": "-mL0ZRg8X_m1"
      }
    },
    {
      "cell_type": "code",
      "source": [
        "df.info()"
      ],
      "metadata": {
        "id": "vs6TamS8S9N1"
      },
      "execution_count": null,
      "outputs": []
    },
    {
      "cell_type": "markdown",
      "source": [
        "Here we can see each column name, the number of items, and the data type. <br>\n",
        "The data type? <br>\n",
        "You've been working with data types this entire workshop!"
      ],
      "metadata": {
        "id": "HHcn6gRJYYFP"
      }
    },
    {
      "cell_type": "code",
      "source": [
        "5 == \"5\""
      ],
      "metadata": {
        "id": "x-bVuGPUYkpT"
      },
      "execution_count": null,
      "outputs": []
    },
    {
      "cell_type": "code",
      "source": [
        "type(5)"
      ],
      "metadata": {
        "id": "FXQKxd6UZAOf"
      },
      "execution_count": null,
      "outputs": []
    },
    {
      "cell_type": "code",
      "source": [
        "type(\"5\")"
      ],
      "metadata": {
        "id": "2b4Q2mibZD9U"
      },
      "execution_count": null,
      "outputs": []
    },
    {
      "cell_type": "markdown",
      "source": [
        "Above, we see that 5 is not equivalent to \"5\". <br>\n",
        "That's because \"5\" is a string (str), or a series of characters! <br>"
      ],
      "metadata": {
        "id": "EEcxywhTYnBB"
      }
    },
    {
      "cell_type": "markdown",
      "source": [
        "Most of the data types are \"int64\" or \"float64\", both meaning numbers. <br>\n",
        "Where it says \"object\", it usually is a string, or series of characters."
      ],
      "metadata": {
        "id": "3z3rr4-BYxxK"
      }
    },
    {
      "cell_type": "markdown",
      "source": [
        "Back to the dataframe, now we want to look at some stats about the data."
      ],
      "metadata": {
        "id": "WgwodmzqZN5A"
      }
    },
    {
      "cell_type": "code",
      "source": [
        "df.describe()"
      ],
      "metadata": {
        "id": "pI15ndO5ZZJ-"
      },
      "execution_count": null,
      "outputs": []
    },
    {
      "cell_type": "markdown",
      "source": [
        "The dataframe is smart, as it only calculates averages on numbers, not strings!"
      ],
      "metadata": {
        "id": "7biRhERkZesr"
      }
    },
    {
      "cell_type": "markdown",
      "source": [
        "Say you're just a big patriots fan, and you're only interested in looking at Patriot playoff teams."
      ],
      "metadata": {
        "id": "IgLcifrfZ4LB"
      }
    },
    {
      "cell_type": "code",
      "source": [
        "#replace #TODO with the full name of the team you want to look at!\n",
        "df_oneTeam = df.query(\"Team == 'TODO'\") # be sure to keep ' ' around the name, in addition to the \" \"\n",
        "display(df_oneTeam);"
      ],
      "metadata": {
        "id": "N-gte8zqZrPy"
      },
      "execution_count": null,
      "outputs": []
    },
    {
      "cell_type": "markdown",
      "source": [
        "Now, think about how to find only the super bowl losers... <br>\n",
        "Below are a couple more examples about how to query into the sheet"
      ],
      "metadata": {
        "id": "YBuC1rNWcbSt"
      }
    },
    {
      "cell_type": "code",
      "source": [
        "df_greatRegSeason = df.query(\"Wins > 14\")\n",
        "df_greatRegSeason"
      ],
      "metadata": {
        "id": "D42wu6Hna77i"
      },
      "execution_count": null,
      "outputs": []
    },
    {
      "cell_type": "code",
      "source": [
        "# this gives us only teams that lost in the wild card round\n",
        "df_wcLosers = df.query(\"Playoff_Rounds_Won == 1\")\n",
        "df_wcLosers"
      ],
      "metadata": {
        "id": "Kr8-4aBqcxox"
      },
      "execution_count": null,
      "outputs": []
    },
    {
      "cell_type": "markdown",
      "source": [
        "Hey!  That makes no sense... <br>\n",
        "A wild card loser wouldn't have won any games! <br>\n",
        "We need to change the column name..."
      ],
      "metadata": {
        "id": "WEKJQEUrdEjz"
      }
    },
    {
      "cell_type": "code",
      "source": [
        "# give it a new name in #TODO!\n",
        "newDF =df.rename(columns = {'Playoff_Rounds_Won':'#TODO'})\n",
        "newDF"
      ],
      "metadata": {
        "id": "KqAFNgkidLqi"
      },
      "execution_count": null,
      "outputs": []
    },
    {
      "cell_type": "markdown",
      "source": [
        "Ok, now, how do we find the super bowl losers?"
      ],
      "metadata": {
        "id": "oPPQ7OO6dmFh"
      }
    },
    {
      "cell_type": "code",
      "source": [
        "# fill the #TODO with a playoff round that gives SB losers\n",
        "losers = df.loc[df['Playoff_Rounds_Won'] == -1] #TODO\n",
        "losers"
      ],
      "metadata": {
        "id": "YgHudEqzdvjX"
      },
      "execution_count": null,
      "outputs": []
    },
    {
      "cell_type": "markdown",
      "source": [
        "We did it!! <br>\n",
        "We can check it's correct because we see the Bills are in there 4 times in a row. <br>"
      ],
      "metadata": {
        "id": "I4O3XFmNeGbG"
      }
    },
    {
      "cell_type": "markdown",
      "source": [
        "**If you have time...** <br>\n",
        "Try playing around with df.query(columnName == value) <br>\n",
        "Try using the **and** and **or** operators you learned earlier!"
      ],
      "metadata": {
        "id": "CTN5bSUym0Y-"
      }
    },
    {
      "cell_type": "code",
      "source": [
        "# code here!\n",
        "df_wcLosers = df.query(\"Playoff_Rounds_Won == 1 and Coach == 'Bill Parcells'\")\n",
        "# try some more here!\n",
        "df_wcLosers"
      ],
      "metadata": {
        "id": "LA_rhDMPnUFr"
      },
      "execution_count": null,
      "outputs": []
    },
    {
      "cell_type": "markdown",
      "source": [
        "## Task 5.0 Export Data\n",
        "Save all of the work you just made!\n"
      ],
      "metadata": {
        "id": "4Idp-6foTBdS"
      }
    },
    {
      "cell_type": "code",
      "source": [
        "from google.colab import files\n",
        "losers.to_csv(\"sbLosers.csv\")\n",
        "files.download(\"sbLosers.csv\")"
      ],
      "metadata": {
        "colab": {
          "base_uri": "https://localhost:8080/",
          "height": 17
        },
        "id": "Df9GDQ2WTMyg",
        "outputId": "feb31808-f3e5-40aa-8801-306a9d50553e"
      },
      "execution_count": null,
      "outputs": [
        {
          "output_type": "display_data",
          "data": {
            "text/plain": [
              "<IPython.core.display.Javascript object>"
            ],
            "application/javascript": [
              "\n",
              "    async function download(id, filename, size) {\n",
              "      if (!google.colab.kernel.accessAllowed) {\n",
              "        return;\n",
              "      }\n",
              "      const div = document.createElement('div');\n",
              "      const label = document.createElement('label');\n",
              "      label.textContent = `Downloading \"${filename}\": `;\n",
              "      div.appendChild(label);\n",
              "      const progress = document.createElement('progress');\n",
              "      progress.max = size;\n",
              "      div.appendChild(progress);\n",
              "      document.body.appendChild(div);\n",
              "\n",
              "      const buffers = [];\n",
              "      let downloaded = 0;\n",
              "\n",
              "      const channel = await google.colab.kernel.comms.open(id);\n",
              "      // Send a message to notify the kernel that we're ready.\n",
              "      channel.send({})\n",
              "\n",
              "      for await (const message of channel.messages) {\n",
              "        // Send a message to notify the kernel that we're ready.\n",
              "        channel.send({})\n",
              "        if (message.buffers) {\n",
              "          for (const buffer of message.buffers) {\n",
              "            buffers.push(buffer);\n",
              "            downloaded += buffer.byteLength;\n",
              "            progress.value = downloaded;\n",
              "          }\n",
              "        }\n",
              "      }\n",
              "      const blob = new Blob(buffers, {type: 'application/binary'});\n",
              "      const a = document.createElement('a');\n",
              "      a.href = window.URL.createObjectURL(blob);\n",
              "      a.download = filename;\n",
              "      div.appendChild(a);\n",
              "      a.click();\n",
              "      div.remove();\n",
              "    }\n",
              "  "
            ]
          },
          "metadata": {}
        },
        {
          "output_type": "display_data",
          "data": {
            "text/plain": [
              "<IPython.core.display.Javascript object>"
            ],
            "application/javascript": [
              "download(\"download_cfbbef74-1cba-4dd6-9cc4-0ca66af447e5\", \"sbLosers.csv\", 9061)"
            ]
          },
          "metadata": {}
        }
      ]
    }
  ]
}