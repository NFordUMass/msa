{
  "nbformat": 4,
  "nbformat_minor": 0,
  "metadata": {
    "colab": {
      "provenance": [],
      "toc_visible": true
    },
    "kernelspec": {
      "name": "python3",
      "display_name": "Python 3"
    },
    "language_info": {
      "name": "python"
    }
  },
  "cells": [
    {
      "cell_type": "markdown",
      "source": [
        "# Welcome to the MSA Python Workshop!\n",
        "*Created by Noah Ford, Keshav Rangan, Rikhav Shah* <br> <br>\n",
        "Follow along the slide presentation [here](https://docs.google.com/presentation/d/1XXgfSkwRq66XnAMTpvxen4Twim9cPGW9ULiQjS75e5o/edit#slide=id.g2864534bda8_0_0) to help complete the tasks outlined for you. <br> <br>\n",
        "In short, we will take you from absolute CS to beginner to CS 389: Machine Learning within one hour! (okay maybe not that far)"
      ],
      "metadata": {
        "id": "vJyh9azUlvgk"
      }
    },
    {
      "cell_type": "markdown",
      "source": [
        "## Task 2.2 Understanding CoLab\n",
        "If you a complete beginner to coding, then CoLab is a great place to start! <br> <br>\n",
        "You can mix blocks of code and blocks of text!"
      ],
      "metadata": {
        "id": "7KfU4dO2njIJ"
      }
    },
    {
      "cell_type": "code",
      "source": [
        "\"code!\""
      ],
      "metadata": {
        "colab": {
          "base_uri": "https://localhost:8080/",
          "height": 35
        },
        "id": "S5q8Pz_OnGKz",
        "outputId": "8d301934-0e6d-4db0-8a37-89e4605dc7d8"
      },
      "execution_count": null,
      "outputs": [
        {
          "output_type": "execute_result",
          "data": {
            "text/plain": [
              "'code!'"
            ],
            "application/vnd.google.colaboratory.intrinsic+json": {
              "type": "string"
            }
          },
          "metadata": {},
          "execution_count": 2
        }
      ]
    },
    {
      "cell_type": "markdown",
      "source": [
        "text!"
      ],
      "metadata": {
        "id": "hujM3mjeo9h-"
      }
    },
    {
      "cell_type": "markdown",
      "source": [
        "### Task 2.2.1 Run a code block!"
      ],
      "metadata": {
        "id": "ZCK05zKBpF79"
      }
    },
    {
      "cell_type": "code",
      "source": [
        "\"run me!\""
      ],
      "metadata": {
        "colab": {
          "base_uri": "https://localhost:8080/",
          "height": 35
        },
        "id": "Ty5pSNL0p1sr",
        "outputId": "286b5c4e-655a-451c-a921-dd57ffc1bbc5"
      },
      "execution_count": null,
      "outputs": [
        {
          "output_type": "execute_result",
          "data": {
            "text/plain": [
              "'run me!'"
            ],
            "application/vnd.google.colaboratory.intrinsic+json": {
              "type": "string"
            }
          },
          "metadata": {},
          "execution_count": 3
        }
      ]
    },
    {
      "cell_type": "markdown",
      "source": [
        "You did it!\n",
        "Let's do it again!"
      ],
      "metadata": {
        "id": "S9kQWkLup6wC"
      }
    },
    {
      "cell_type": "code",
      "source": [
        "# I'm a comment, run me!"
      ],
      "metadata": {
        "id": "JbrjEaxZy0hR"
      },
      "execution_count": null,
      "outputs": []
    },
    {
      "cell_type": "markdown",
      "source": [
        "That's right, no output. <br>\n",
        "Comments do not affect code in any way. <br>\n",
        "They are for us, not the computer."
      ],
      "metadata": {
        "id": "PMvI9nwpy8TC"
      }
    },
    {
      "cell_type": "markdown",
      "source": [
        "Ok, one more time!"
      ],
      "metadata": {
        "id": "hJ-8fgT4zKR2"
      }
    },
    {
      "cell_type": "code",
      "source": [
        "# run me!\n",
        "2023 - 1970"
      ],
      "metadata": {
        "colab": {
          "base_uri": "https://localhost:8080/"
        },
        "id": "MsKmLsxezLrU",
        "outputId": "a80051fc-2ad1-4e32-de18-4af3920d6c47"
      },
      "execution_count": null,
      "outputs": [
        {
          "output_type": "execute_result",
          "data": {
            "text/plain": [
              "53"
            ]
          },
          "metadata": {},
          "execution_count": 5
        }
      ]
    },
    {
      "cell_type": "markdown",
      "source": [
        "That's right, we can do math, and many operations here!"
      ],
      "metadata": {
        "id": "2xvEU2F_zSaw"
      }
    },
    {
      "cell_type": "code",
      "source": [
        "4 > 3"
      ],
      "metadata": {
        "colab": {
          "base_uri": "https://localhost:8080/"
        },
        "id": "uwaN8eyvzYr-",
        "outputId": "0cab6d87-877a-4963-f375-5e922649ddb6"
      },
      "execution_count": null,
      "outputs": [
        {
          "output_type": "execute_result",
          "data": {
            "text/plain": [
              "True"
            ]
          },
          "metadata": {},
          "execution_count": 8
        }
      ]
    },
    {
      "cell_type": "code",
      "source": [
        "\"i\" in \"team\""
      ],
      "metadata": {
        "colab": {
          "base_uri": "https://localhost:8080/"
        },
        "id": "PGTxKuxV0K7Z",
        "outputId": "dc082cef-8e63-4bc8-97af-8fa31d8cc6ec"
      },
      "execution_count": null,
      "outputs": [
        {
          "output_type": "execute_result",
          "data": {
            "text/plain": [
              "False"
            ]
          },
          "metadata": {},
          "execution_count": 9
        }
      ]
    },
    {
      "cell_type": "code",
      "source": [
        "\"i\" in \"win\""
      ],
      "metadata": {
        "colab": {
          "base_uri": "https://localhost:8080/"
        },
        "id": "37tRRcLx0OuZ",
        "outputId": "34d72bcb-77e1-4478-acbb-8f1d140bc2f0"
      },
      "execution_count": null,
      "outputs": [
        {
          "output_type": "execute_result",
          "data": {
            "text/plain": [
              "True"
            ]
          },
          "metadata": {},
          "execution_count": 10
        }
      ]
    },
    {
      "cell_type": "markdown",
      "source": [
        "### Task 2.2.1 Variable Assignment"
      ],
      "metadata": {
        "id": "qdgG9uV31h75"
      }
    },
    {
      "cell_type": "markdown",
      "source": [
        "Go to [*statmuse*](https://www.statmuse.com/nfl/ask/most-road-playoff-wins-by-a-quarterback) and fill out the variables below. <br>\n",
        "Put the values you find where the #TODO text is."
      ],
      "metadata": {
        "id": "M7IFkwil1o79"
      }
    },
    {
      "cell_type": "code",
      "source": [
        "tomBradyRoadPlayoffWins = 11\n",
        "markSanchezRoadPlayoffWins = 4\n",
        "brettFarveRoadPlayoffWins = 3\n",
        "markSanchezRoadPlayoffWins > brettFarveRoadPlayoffWins"
      ],
      "metadata": {
        "colab": {
          "base_uri": "https://localhost:8080/"
        },
        "id": "HxbvC31Fzu1H",
        "outputId": "c57d362a-b70b-4156-ce41-9898a01affc1"
      },
      "execution_count": null,
      "outputs": [
        {
          "output_type": "execute_result",
          "data": {
            "text/plain": [
              "True"
            ]
          },
          "metadata": {},
          "execution_count": 16
        }
      ]
    },
    {
      "cell_type": "markdown",
      "source": [
        "We can see this is essentially the same code as above when we wrote: <br>\n",
        "4 > 3"
      ],
      "metadata": {
        "id": "PPV-0Byk3Kgs"
      }
    },
    {
      "cell_type": "markdown",
      "source": [
        "## Task 2.3 Installing Packages\n",
        "Ok, now to the meat of the data scrape! <br>\n",
        "We need some tools to help us."
      ],
      "metadata": {
        "id": "t08jzmIt8mut"
      }
    },
    {
      "cell_type": "code",
      "execution_count": null,
      "metadata": {
        "id": "7gyEvzCJHcLX"
      },
      "outputs": [],
      "source": [
        "import os\n",
        "from bs4 import BeautifulSoup\n",
        "!pip install playwright\n",
        "!playwright install\n",
        "!playwright install-deps firefox\n",
        "from playwright.async_api import async_playwright, TimeoutError as PlaywrightTimeout\n",
        "import re\n",
        "import time\n",
        "import asyncio\n",
        "from pathlib import Path\n",
        "import pandas as pd"
      ]
    },
    {
      "cell_type": "markdown",
      "source": [
        "## Task 2.4 Initializing Functions\n",
        "This is a fun step! <br>\n",
        "Run every cell with one click!"
      ],
      "metadata": {
        "id": "XDaeQZ2dBcG4"
      }
    },
    {
      "cell_type": "code",
      "source": [
        "# function run me\n",
        "async def get_html(url,selector,sleep =5, retries =3):\n",
        "    html = None\n",
        "    for i in range(1, retries+1):\n",
        "        time.sleep(sleep *i)\n",
        "\n",
        "        try:\n",
        "            async with async_playwright() as p:\n",
        "                browser = await p.firefox.launch()\n",
        "                page = await browser.new_page()\n",
        "                await page.goto(url)\n",
        "                print(await page.title())\n",
        "                html = await page.inner_html(selector)\n",
        "        except PlaywrightTimeout:\n",
        "            print(f\"Timeout error on {url}\")\n",
        "            continue\n",
        "        else:\n",
        "            break\n",
        "    return html"
      ],
      "metadata": {
        "id": "sXAM8fP0If_J"
      },
      "execution_count": null,
      "outputs": []
    },
    {
      "cell_type": "code",
      "source": [
        "# function run me\n",
        "# sus manipulation of playoff results table to get correct elmination order\n",
        "def filterTeams(arr):\n",
        "    teamPgsRev = list(reversed(arr))\n",
        "    finalTeams = []\n",
        "    for i in teamPgsRev:\n",
        "        if i not in finalTeams:\n",
        "            finalTeams.append(i)\n",
        "    [finalTeams[0],finalTeams[1]] = [finalTeams[1],finalTeams[0]]\n",
        "    return finalTeams"
      ],
      "metadata": {
        "id": "tW6L-6TnIiWq"
      },
      "execution_count": null,
      "outputs": []
    },
    {
      "cell_type": "code",
      "source": [
        "# function run me\n",
        "def getResult(index):\n",
        "    if index <= 0 :\n",
        "      return 5\n",
        "    elif index <= 1:\n",
        "      return 4\n",
        "    elif index <= 3:\n",
        "      return 3\n",
        "    elif index <= 7:\n",
        "      return 2\n",
        "    else :\n",
        "      return 1"
      ],
      "metadata": {
        "id": "zQQkV1zLIkLo"
      },
      "execution_count": null,
      "outputs": []
    },
    {
      "cell_type": "code",
      "source": [
        "# function run me\n",
        "def getYear(url):\n",
        "    yr = int(url[url.find(\".htm\")-4:url.find(\".htm\")]);\n",
        "    return yr;"
      ],
      "metadata": {
        "id": "Qj-bcE1nIn3l"
      },
      "execution_count": null,
      "outputs": []
    },
    {
      "cell_type": "code",
      "source": [
        "# function run me\n",
        "def getSeasonYear(url):\n",
        "  yr = int(url[url.find(\"index.htm\")-5:url.find(\"index.htm\")-1])\n",
        "  return yr;"
      ],
      "metadata": {
        "id": "gSUTd8cedyyi"
      },
      "execution_count": null,
      "outputs": []
    },
    {
      "cell_type": "code",
      "source": [
        "# function run me\n",
        "def getAbbrv(url):\n",
        "    abbrv = url[url.index(\"teams/\")+6:url.index(\".htm\")-5];\n",
        "    return abbrv;"
      ],
      "metadata": {
        "id": "Q4_li8XFIsv9"
      },
      "execution_count": null,
      "outputs": []
    },
    {
      "cell_type": "code",
      "source": [
        "# function run me\n",
        "def getWins(string):\n",
        "    w = int(string[:string.find(\"-\")])\n",
        "    return w;"
      ],
      "metadata": {
        "id": "Z4zIBBCqIvMd"
      },
      "execution_count": null,
      "outputs": []
    },
    {
      "cell_type": "code",
      "source": [
        "# function run me\n",
        "# sus url manipulation to get the next year\n",
        "def getNext(url,diff):\n",
        "    base = url[:url.find(\".htm\")-5]\n",
        "    yr = getYear(url)+diff;\n",
        "    if((yr > 2023) or (yr < 19)):\n",
        "        return \"\";\n",
        "    return f\"{base}/{yr}.htm\";"
      ],
      "metadata": {
        "id": "ge_byMydIxgC"
      },
      "execution_count": null,
      "outputs": []
    },
    {
      "cell_type": "code",
      "source": [
        "# function run me\n",
        "def nameTeam(link):\n",
        "    return getAbbrv(link)+str(getYear(link))+\".htm\";"
      ],
      "metadata": {
        "id": "E1JceRUeY5L9"
      },
      "execution_count": null,
      "outputs": []
    },
    {
      "cell_type": "code",
      "source": [
        "# function run me\n",
        "#get record from html\n",
        "async def getRec(link):\n",
        "    html = await savePath(link,\"#meta\")\n",
        "    html = BeautifulSoup(html)\n",
        "    string = html.find_all(\"p\")[2].getText()\n",
        "    strR = string[string.find(\":\")+2:string.find(\",\")]\n",
        "    return strR"
      ],
      "metadata": {
        "id": "rYcVBhQhIzuM"
      },
      "execution_count": null,
      "outputs": []
    },
    {
      "cell_type": "code",
      "source": [
        "cache = [];"
      ],
      "metadata": {
        "id": "7eea4CvsWgV_"
      },
      "execution_count": null,
      "outputs": []
    },
    {
      "cell_type": "code",
      "source": [
        "async def savePath(url,tag):\n",
        "  for arr in cache:\n",
        "    if url == arr[0] :\n",
        "      return arr[1];\n",
        "  ret = cache.append([url,await get_html(url, tag)])"
      ],
      "metadata": {
        "id": "GVXlbduKCK2R"
      },
      "execution_count": null,
      "outputs": []
    },
    {
      "cell_type": "code",
      "source": [
        "from pathlib import Path\n",
        "DATA_DIR = \"sbpgs\";\n",
        "YR_DIR = \"leagueYrs\";\n",
        "root_path = r\"/Users/noahford/Desktop/msaPython/\"\n",
        "yr_path = Path(root_path, \"leagueYrs\")\n",
        "# sus function, don't touch right now\n",
        "async def savePath2(link,directory,name,tag):\n",
        "    save_path = Path(directory, name(link))\n",
        "    if not(save_path.exists()):\n",
        "        html = await get_html(link, tag);\n",
        "        with open(save_path, \"w+\") as f:\n",
        "            f.write(html)\n",
        "    else :\n",
        "        with open(save_path, 'r') as f:\n",
        "            html = f.read()\n",
        "    return html\n",
        "\n",
        "def nameYear(link):\n",
        "    i = link.find(\"years\")+6;\n",
        "    return link[i:i+4] + \"league.htm\";\n",
        "def nameTeam(link):\n",
        "    return getAbbrv(link)+str(getYear(link))+\".htm\";"
      ],
      "metadata": {
        "id": "TwRN69-StWDo"
      },
      "execution_count": null,
      "outputs": []
    },
    {
      "cell_type": "code",
      "source": [
        "# function run me\n",
        "async def scrape_season(season):\n",
        "    base = f\"https://www.pro-football-reference.com\";\n",
        "    url = f\"{base}/years/{season}/index.htm\"\n",
        "    html = BeautifulSoup(await savePath(url,\"#div_playoff_results\"))\n",
        "    # html = BeautifulSoup(await savePath2(url,yr_path,nameYear,\"#div_playoff_results\"))\n",
        "    # html = BeautifulSoup(await get_html(url, \"#div_playoff_results\"))\n",
        "    a_tags = html.find_all(\"a\");\n",
        "    hrefs = [a[\"href\"]  for a in a_tags];\n",
        "    teams = [l for l in hrefs if \"/teams/\" in l];\n",
        "    finalTeams = filterTeams(teams);\n",
        "    finalTeams = [base + t for t in finalTeams]\n",
        "    # ret = [[t,getNext(t,1),getAbbrv(t),getYear(t)] for t in finalTeams]\n",
        "    ret = [[t,getNext(t,1)] for i,t in enumerate(finalTeams)]\n",
        "    return ret"
      ],
      "metadata": {
        "id": "S5Pk-TNyI1qP"
      },
      "execution_count": null,
      "outputs": []
    },
    {
      "cell_type": "code",
      "source": [
        "season = 2022;\n",
        "url = \"https://www.pro-football-reference.com/years/1999/\""
      ],
      "metadata": {
        "id": "cFXeenQBJExN"
      },
      "execution_count": null,
      "outputs": []
    },
    {
      "cell_type": "markdown",
      "source": [
        "## Task 3.1 Scrape Data"
      ],
      "metadata": {
        "id": "shKbHprFnZ9r"
      }
    },
    {
      "cell_type": "markdown",
      "source": [
        "### Task 3.1.4 Call savePath\n",
        "Now we've found where to look for the html, let's pull it! <br>\n",
        "Fill in the url and tag you found"
      ],
      "metadata": {
        "id": "NQ3hpELi5hkP"
      }
    },
    {
      "cell_type": "code",
      "source": [
        "url = #TODO, from task 3.1.1\n",
        "tag = #TODO, from task 3.1.3"
      ],
      "metadata": {
        "id": "_2W-ljfU5w1D"
      },
      "execution_count": null,
      "outputs": []
    },
    {
      "cell_type": "code",
      "source": [
        "#run me!\n",
        "await savePath(\"https://www.pro-football-reference.com/years/2022/\",\"#div_playoff_results\")"
      ],
      "metadata": {
        "id": "v1hinx7W5AQ_"
      },
      "execution_count": null,
      "outputs": []
    },
    {
      "cell_type": "markdown",
      "source": [
        "### Optional Task 3.1.5: Work with html\n"
      ],
      "metadata": {
        "id": "h80JdVmL9PZR"
      }
    },
    {
      "cell_type": "code",
      "source": [
        "# first, store the html mess into a variable\n",
        "s22 = await savePath(\"https://www.pro-football-reference.com/years/2022/\",\"#div_playoff_results\")\n",
        "# then, we use the Beautiful Soup package to make the html look nicer\n",
        "s22BS = BeautifulSoup(s22)\n",
        "s22BS;"
      ],
      "metadata": {
        "id": "5HjONb1IAVcW"
      },
      "execution_count": null,
      "outputs": []
    },
    {
      "cell_type": "code",
      "source": [
        "# this pulls every a tag, or link of a certain type\n",
        "a_tags = s22BS.find_all(\"a\")\n",
        "a_tags"
      ],
      "metadata": {
        "id": "4yUKxbY8B5OE"
      },
      "execution_count": null,
      "outputs": []
    },
    {
      "cell_type": "code",
      "source": [
        "# now, we want the second to last link\n",
        "loser = a_tags[len(a_tags) - 2]\n",
        "loser"
      ],
      "metadata": {
        "colab": {
          "base_uri": "https://localhost:8080/"
        },
        "id": "5gZ42GzXDZQr",
        "outputId": "6b496baa-93f8-45e9-f944-ab8be8ff366a"
      },
      "execution_count": null,
      "outputs": [
        {
          "output_type": "execute_result",
          "data": {
            "text/plain": [
              "<a href=\"/teams/phi/2022.htm\">Philadelphia Eagles</a>"
            ]
          },
          "metadata": {},
          "execution_count": 81
        }
      ]
    },
    {
      "cell_type": "code",
      "source": [
        "# but that's not a complete link!\n",
        "base = \"https://www.pro-football-reference.com\"\n",
        "link = base + loser[\"href\"]\n",
        "link"
      ],
      "metadata": {
        "id": "wUx8gilbDmIv"
      },
      "execution_count": null,
      "outputs": []
    },
    {
      "cell_type": "markdown",
      "source": [
        "Now we have our link!\n",
        "Let's pull the record from this page."
      ],
      "metadata": {
        "id": "AgVGnjFQD31B"
      }
    },
    {
      "cell_type": "code",
      "source": [
        "await getRec(link)"
      ],
      "metadata": {
        "id": "C7wOuNrED7JF"
      },
      "execution_count": null,
      "outputs": []
    },
    {
      "cell_type": "markdown",
      "source": [
        "Ah! same error! <br>\n",
        "But remember, this \"TypeError\" is okay.\n",
        "We still pulled the page"
      ],
      "metadata": {
        "id": "Z0T_uGugEqtY"
      }
    },
    {
      "cell_type": "code",
      "source": [
        "await getRec(link)"
      ],
      "metadata": {
        "id": "5MQczZ0fEzeT"
      },
      "execution_count": null,
      "outputs": []
    },
    {
      "cell_type": "markdown",
      "source": [
        "There we go!  It's the Eagles record!"
      ],
      "metadata": {
        "id": "lbR8fANaE10h"
      }
    },
    {
      "cell_type": "markdown",
      "source": [
        "### Task 3.1.6 Scrape Season"
      ],
      "metadata": {
        "id": "rdL_EFPBF5NP"
      }
    },
    {
      "cell_type": "code",
      "source": [
        "# call me!\n",
        "await scrape_season(2022)"
      ],
      "metadata": {
        "id": "r2po7UZWA-Y2"
      },
      "execution_count": null,
      "outputs": []
    },
    {
      "cell_type": "markdown",
      "source": [
        "Look at how beautiful that is!"
      ],
      "metadata": {
        "id": "HsMxAM1aJUs6"
      }
    },
    {
      "cell_type": "markdown",
      "source": [
        "## Task 4.0 Import CSV"
      ],
      "metadata": {
        "id": "6xgt5qn6MJJ6"
      }
    },
    {
      "cell_type": "markdown",
      "source": [
        "For the remainder of the workshop, you will be working with this set of pulled data"
      ],
      "metadata": {
        "id": "XJGz1dbHQrCv"
      }
    },
    {
      "cell_type": "code",
      "source": [
        "raw = \"https://raw.githubusercontent.com/NFordUMass/msa/gh-pages/assets/python/output3.csv\"\n",
        "\n",
        "# here, we are creating a data frame from the csv\n",
        "df = pd.read_csv(raw)\n",
        "\n",
        "# df is now the variable storing your dataframe\n",
        "df"
      ],
      "metadata": {
        "id": "XGSCdrWQMhSB"
      },
      "execution_count": null,
      "outputs": []
    },
    {
      "cell_type": "markdown",
      "source": [
        "Each row is a playoff team's stats for the year, and the stats for the team the next year."
      ],
      "metadata": {
        "id": "hrhIfvg4UmuR"
      }
    },
    {
      "cell_type": "markdown",
      "source": [
        "## Task 4.1 Playing with Data"
      ],
      "metadata": {
        "id": "RLN52p-KW02S"
      }
    },
    {
      "cell_type": "markdown",
      "source": [
        "First, find out what the data looks like!"
      ],
      "metadata": {
        "id": "-mL0ZRg8X_m1"
      }
    },
    {
      "cell_type": "code",
      "source": [
        "df.info()"
      ],
      "metadata": {
        "id": "vs6TamS8S9N1"
      },
      "execution_count": null,
      "outputs": []
    },
    {
      "cell_type": "markdown",
      "source": [
        "Here we can see each column name, the number of items, and the data type. <br>\n",
        "The data type? <br>\n",
        "You've been working with data types this entire workshop!"
      ],
      "metadata": {
        "id": "HHcn6gRJYYFP"
      }
    },
    {
      "cell_type": "code",
      "source": [
        "5 == \"5\""
      ],
      "metadata": {
        "id": "x-bVuGPUYkpT"
      },
      "execution_count": null,
      "outputs": []
    },
    {
      "cell_type": "code",
      "source": [
        "type(5)"
      ],
      "metadata": {
        "id": "FXQKxd6UZAOf"
      },
      "execution_count": null,
      "outputs": []
    },
    {
      "cell_type": "code",
      "source": [
        "type(\"5\")"
      ],
      "metadata": {
        "id": "2b4Q2mibZD9U"
      },
      "execution_count": null,
      "outputs": []
    },
    {
      "cell_type": "markdown",
      "source": [
        "Above, we see that 5 is not equivalent to \"5\". <br>\n",
        "That's because \"5\" is a string (str), or a series of characters! <br>"
      ],
      "metadata": {
        "id": "EEcxywhTYnBB"
      }
    },
    {
      "cell_type": "markdown",
      "source": [
        "Most of the data types are \"int64\" or \"float64\", both meaning numbers. <br>\n",
        "Where it says \"object\", it usually is a string, or series of characters."
      ],
      "metadata": {
        "id": "3z3rr4-BYxxK"
      }
    },
    {
      "cell_type": "markdown",
      "source": [
        "Back to the dataframe, now we want to look at some stats about the data."
      ],
      "metadata": {
        "id": "WgwodmzqZN5A"
      }
    },
    {
      "cell_type": "code",
      "source": [
        "df.describe()"
      ],
      "metadata": {
        "id": "pI15ndO5ZZJ-"
      },
      "execution_count": null,
      "outputs": []
    },
    {
      "cell_type": "markdown",
      "source": [
        "The dataframe is smart, as it only calculates averages on numbers, not strings!"
      ],
      "metadata": {
        "id": "7biRhERkZesr"
      }
    },
    {
      "cell_type": "markdown",
      "source": [
        "Say you're just a big patriots fan, and you're only interested in looking at Patriot playoff teams."
      ],
      "metadata": {
        "id": "IgLcifrfZ4LB"
      }
    },
    {
      "cell_type": "code",
      "source": [
        "#replace #TODO with the full name of the team you want to look at!\n",
        "df_oneTeam = df.query(\"Team == 'TODO'\") # be sure to keep ' ' around the name, in addition to the \" \"\n",
        "display(df_oneTeam);"
      ],
      "metadata": {
        "id": "N-gte8zqZrPy"
      },
      "execution_count": null,
      "outputs": []
    },
    {
      "cell_type": "markdown",
      "source": [
        "Now, think about how to find only the super bowl losers... <br>\n",
        "Below are a couple more examples about how to query into the sheet"
      ],
      "metadata": {
        "id": "YBuC1rNWcbSt"
      }
    },
    {
      "cell_type": "code",
      "source": [
        "df_greatRegSeason = df.query(\"Wins > 14\")\n",
        "df_greatRegSeason"
      ],
      "metadata": {
        "id": "D42wu6Hna77i"
      },
      "execution_count": null,
      "outputs": []
    },
    {
      "cell_type": "code",
      "source": [
        "# this gives us only teams that lost in the wild card round\n",
        "df_wcLosers = df.query(\"Playoff_Rounds_Won == 1\")\n",
        "df_wcLosers"
      ],
      "metadata": {
        "id": "Kr8-4aBqcxox"
      },
      "execution_count": null,
      "outputs": []
    },
    {
      "cell_type": "markdown",
      "source": [
        "Hey!  That makes no sense... <br>\n",
        "A wild card loser wouldn't have won any games! <br>\n",
        "We need to change the column name..."
      ],
      "metadata": {
        "id": "WEKJQEUrdEjz"
      }
    },
    {
      "cell_type": "code",
      "source": [
        "# give it a new name in #TODO!\n",
        "newDF =df.rename(columns = {'Playoff_Rounds_Won':'#TODO'})\n",
        "newDF"
      ],
      "metadata": {
        "id": "KqAFNgkidLqi"
      },
      "execution_count": null,
      "outputs": []
    },
    {
      "cell_type": "markdown",
      "source": [
        "Ok, now, how do we find the super bowl losers?"
      ],
      "metadata": {
        "id": "oPPQ7OO6dmFh"
      }
    },
    {
      "cell_type": "code",
      "source": [
        "# fill the #TODO with a playoff round that gives SB losers\n",
        "losers = df.loc[df['Playoff_Rounds_Won'] == #TODO]\n",
        "losers"
      ],
      "metadata": {
        "id": "YgHudEqzdvjX"
      },
      "execution_count": null,
      "outputs": []
    },
    {
      "cell_type": "markdown",
      "source": [
        "We did it!! <br>\n",
        "We can check it's correct because we see the Bills are in there 4 times in a row."
      ],
      "metadata": {
        "id": "I4O3XFmNeGbG"
      }
    },
    {
      "cell_type": "markdown",
      "source": [
        "## Task 5.0 Export Data\n",
        "Save all of the work you just made!\n"
      ],
      "metadata": {
        "id": "4Idp-6foTBdS"
      }
    },
    {
      "cell_type": "code",
      "source": [
        "from google.colab import files\n",
        "losers.to_csv(\"sbLosers.csv\")\n",
        "files.download(\"sbLosers.csv\")"
      ],
      "metadata": {
        "colab": {
          "base_uri": "https://localhost:8080/",
          "height": 17
        },
        "id": "Df9GDQ2WTMyg",
        "outputId": "feb31808-f3e5-40aa-8801-306a9d50553e"
      },
      "execution_count": null,
      "outputs": [
        {
          "output_type": "display_data",
          "data": {
            "text/plain": [
              "<IPython.core.display.Javascript object>"
            ],
            "application/javascript": [
              "\n",
              "    async function download(id, filename, size) {\n",
              "      if (!google.colab.kernel.accessAllowed) {\n",
              "        return;\n",
              "      }\n",
              "      const div = document.createElement('div');\n",
              "      const label = document.createElement('label');\n",
              "      label.textContent = `Downloading \"${filename}\": `;\n",
              "      div.appendChild(label);\n",
              "      const progress = document.createElement('progress');\n",
              "      progress.max = size;\n",
              "      div.appendChild(progress);\n",
              "      document.body.appendChild(div);\n",
              "\n",
              "      const buffers = [];\n",
              "      let downloaded = 0;\n",
              "\n",
              "      const channel = await google.colab.kernel.comms.open(id);\n",
              "      // Send a message to notify the kernel that we're ready.\n",
              "      channel.send({})\n",
              "\n",
              "      for await (const message of channel.messages) {\n",
              "        // Send a message to notify the kernel that we're ready.\n",
              "        channel.send({})\n",
              "        if (message.buffers) {\n",
              "          for (const buffer of message.buffers) {\n",
              "            buffers.push(buffer);\n",
              "            downloaded += buffer.byteLength;\n",
              "            progress.value = downloaded;\n",
              "          }\n",
              "        }\n",
              "      }\n",
              "      const blob = new Blob(buffers, {type: 'application/binary'});\n",
              "      const a = document.createElement('a');\n",
              "      a.href = window.URL.createObjectURL(blob);\n",
              "      a.download = filename;\n",
              "      div.appendChild(a);\n",
              "      a.click();\n",
              "      div.remove();\n",
              "    }\n",
              "  "
            ]
          },
          "metadata": {}
        },
        {
          "output_type": "display_data",
          "data": {
            "text/plain": [
              "<IPython.core.display.Javascript object>"
            ],
            "application/javascript": [
              "download(\"download_cfbbef74-1cba-4dd6-9cc4-0ca66af447e5\", \"sbLosers.csv\", 9061)"
            ]
          },
          "metadata": {}
        }
      ]
    }
  ]
}